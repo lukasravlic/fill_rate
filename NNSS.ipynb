{
 "cells": [
  {
   "cell_type": "code",
   "execution_count": 1,
   "metadata": {},
   "outputs": [],
   "source": [
    "#IMPORTACION DE LIBRERIAS\n",
    "import pandas as pd\n",
    "import datetime\n",
    "import os\n",
    "import numpy as np\n",
    "import getpass\n",
    "# hoy = datetime.datetime.today() dejar esta linea cuadno se haga el calculo real\n",
    "hoy = datetime.datetime.today()\n",
    "#LECTURA DE DFS\n",
    "from pathlib import Path\n",
    "usuario = getpass.getuser()"
   ]
  },
  {
   "cell_type": "code",
   "execution_count": 2,
   "metadata": {},
   "outputs": [
    {
     "name": "stdout",
     "output_type": "stream",
     "text": [
      "Fechas disponibles para usar:\n",
      "Lunes: 02.12.2024\n",
      "Domingo: 08.12.2024\n"
     ]
    }
   ],
   "source": [
    "import tkinter as tk\n",
    "from tkinter import ttk\n",
    "from tkcalendar import DateEntry\n",
    "from datetime import datetime, timedelta\n",
    "\n",
    "# Variables globales para almacenar las fechas formateadas\n",
    "fecha_1 = None\n",
    "fecha_2 = None\n",
    "\n",
    "# Función que calcula el rango de fechas y cierra la ventana\n",
    "def calcular_y_continuar():\n",
    "    global fecha_1, fecha_2\n",
    "    \n",
    "    fecha_input = calendario.get_date()\n",
    "\n",
    "    # Calcular el lunes de la semana anterior\n",
    "    fecha_lunes_anterior = fecha_input\n",
    "    \n",
    "    # Calcular el domingo de la semana anterior\n",
    "    fecha_domingo_anterior = fecha_lunes_anterior + timedelta(days=6)\n",
    "\n",
    "    # Formatear las fechas como dd.mm.yyyy\n",
    "    fecha_1 = fecha_lunes_anterior.strftime(\"%d.%m.%Y\")\n",
    "    fecha_2 = fecha_domingo_anterior.strftime(\"%d.%m.%Y\")\n",
    "    \n",
    "    # Cerrar la ventana\n",
    "    ventana.destroy()\n",
    "\n",
    "# Crear la ventana principal\n",
    "ventana = tk.Tk()\n",
    "ventana.title(\"Selección de Fechas\")\n",
    "ventana.geometry(\"300x250\")\n",
    "\n",
    "# Etiqueta de instrucción\n",
    "label_instruccion = tk.Label(ventana, text=\"Selecciona una fecha:\")\n",
    "label_instruccion.pack(pady=10)\n",
    "\n",
    "# Calendario de selección de fecha\n",
    "calendario = DateEntry(ventana, date_pattern='dd.mm.yyyy', background='darkblue', foreground='white', borderwidth=2)\n",
    "calendario.pack(pady=10)\n",
    "\n",
    "# Botón para calcular el rango y continuar\n",
    "boton_ok = ttk.Button(ventana, text=\"OK\", command=calcular_y_continuar)\n",
    "boton_ok.pack(pady=10)\n",
    "\n",
    "# Iniciar la aplicación\n",
    "ventana.mainloop()\n",
    "\n",
    "# Una vez que la ventana se cierra, las fechas ya están disponibles\n",
    "print(f\"Fechas disponibles para usar:\\nLunes: {fecha_1}\\nDomingo: {fecha_2}\")\n",
    "\n",
    "# Aquí puedes continuar con el resto del código\n",
    "# Ejemplo: \n",
    "# print(\"Continuando con el proceso usando fecha_1 y fecha_2\")\n",
    "\n"
   ]
  },
  {
   "cell_type": "code",
   "execution_count": 3,
   "metadata": {},
   "outputs": [],
   "source": [
    "import getpass\n",
    "\n",
    "usuario = getpass.getuser()"
   ]
  },
  {
   "cell_type": "code",
   "execution_count": 4,
   "metadata": {},
   "outputs": [],
   "source": [
    "import win32com.client\n",
    "\n",
    "# Initialize the SAP GUI scripting\n",
    "SapGuiAuto = win32com.client.GetObject(\"SAPGUI\")\n",
    "application = SapGuiAuto.GetScriptingEngine\n",
    "connection = application.Children(0)\n",
    "session = connection.Children(0)\n",
    "\n",
    "# Maximize the SAP window\n",
    "session.findById(\"wnd[0]\").maximize()\n",
    "\n",
    "# Enter transaction code \"va05\" and execute\n",
    "session.findById(\"wnd[0]/tbar[0]/okcd\").text = \"va05\"\n",
    "session.findById(\"wnd[0]\").sendVKey(0)\n",
    "\n",
    "session.findById(\"wnd[0]/tbar[1]/btn[33]\").press()\n",
    "session.findById(\"wnd[1]/usr/ctxtVBCOM-VKORG\").text = \"vi02\"\n",
    "session.findById(\"wnd[1]/usr/ctxtVBCOM-VKORG\").caretPosition = 4\n",
    "session.findById(\"wnd[1]\").sendVKey(0)\n",
    "\n",
    "# Set date range\n",
    "session.findById(\"wnd[0]/usr/ctxtVBCOM-AUDAT\").text = fecha_1\n",
    "session.findById(\"wnd[0]/usr/ctxtVBCOM-AUDAT_BIS\").text = fecha_2\n",
    "session.findById(\"wnd[0]/usr/ctxtVBCOM-AUDAT_BIS\").setFocus()\n",
    "session.findById(\"wnd[0]/usr/ctxtVBCOM-AUDAT_BIS\").caretPosition = 10\n",
    "\n",
    "# Press button to continue\n",
    "session.findById(\"wnd[0]/tbar[1]/btn[33]\").press()\n",
    "session.findById(\"wnd[1]/tbar[0]/btn[0]\").press()\n",
    "session.findById(\"wnd[0]/tbar[1]/btn[20]\").press()\n",
    "\n",
    "# Select checkbox in the popup\n",
    "session.findById(\"wnd[1]/usr/sub:SAPLKAB1:0400/chkRKAB1-XSUCH[4,0]\").selected = True\n",
    "session.findById(\"wnd[1]/usr/sub:SAPLKAB1:0400/chkRKAB1-XSUCH[4,0]\").setFocus()\n",
    "session.findById(\"wnd[1]/tbar[0]/btn[0]\").press()\n",
    "\n",
    "# Set some text in the next screen\n",
    "session.findById(\"wnd[2]/usr/sub:SAPLKAB1:0410/ctxtRKAB1-VONSL[0,23]\").text = \"zrdp\"\n",
    "session.findById(\"wnd[2]/usr/sub:SAPLKAB1:0410/ctxtRKAB1-BISSL[0,44]\").text = \"zvdp\"\n",
    "session.findById(\"wnd[2]/usr/sub:SAPLKAB1:0410/ctxtRKAB1-BISSL[0,44]\").setFocus()\n",
    "session.findById(\"wnd[2]/usr/sub:SAPLKAB1:0410/ctxtRKAB1-BISSL[0,44]\").caretPosition = 4\n",
    "session.findById(\"wnd[2]/tbar[0]/btn[0]\").press()\n",
    "\n",
    "# Execute and download Excel file\n",
    "session.findById(\"wnd[0]\").sendVKey(0)\n",
    "session.findById(\"wnd[0]/usr/cntlGRID1/shellcont/shell/shellcont[1]/shell\").setCurrentCell(6, \"ARKTX\")\n",
    "session.findById(\"wnd[0]/usr/cntlGRID1/shellcont/shell/shellcont[1]/shell\").contextMenu()\n",
    "session.findById(\"wnd[0]/usr/cntlGRID1/shellcont/shell/shellcont[1]/shell\").selectContextMenuItem(\"&XXL\")\n",
    "\n",
    "# Define file path and save the file\n",
    "session.findById(\"wnd[1]/tbar[0]/btn[0]\").press()\n",
    "session.findById(\"wnd[1]/usr/ctxtDY_PATH\").text = f'C:/Users/{usuario}/Inchcape/Planificación y Compras Chile - Documentos/Planificación y Compras KPI-Reportes/Nivel de Servicio OEM/automatizacion'\n",
    "session.findById(\"wnd[1]/usr/ctxtDY_FILENAME\").text = \"VA05.XLSX\"\n",
    "session.findById(\"wnd[1]/usr/ctxtDY_FILENAME\").caretPosition = 4\n",
    "session.findById(\"wnd[1]/tbar[0]/btn[11]\").press()\n",
    "\n",
    "# Close the windows\n",
    "session.findById(\"wnd[0]\").sendVKey(3)\n",
    "session.findById(\"wnd[0]\").sendVKey(3)\n"
   ]
  },
  {
   "cell_type": "code",
   "execution_count": 6,
   "metadata": {},
   "outputs": [],
   "source": [
    "import pandas as pd\n",
    "dtype = {'Documento comercial':'str',\n",
    "'Posición (SD)':'str','Solicitante':'str',\n",
    "'Sector':'str' }\n",
    "va05 = pd.read_excel(f'C:/Users/{usuario}/Inchcape/Planificación y Compras Chile - Documentos/Planificación y Compras KPI-Reportes/Nivel de Servicio OEM/automatizacion/VA05.XLSX', dtype=dtype)"
   ]
  },
  {
   "cell_type": "code",
   "execution_count": 13,
   "metadata": {},
   "outputs": [],
   "source": [
    "va05['Material'] = va05['Material'].astype('str')"
   ]
  },
  {
   "cell_type": "code",
   "execution_count": 14,
   "metadata": {},
   "outputs": [],
   "source": [
    "va05_reducida = va05[['Documento comercial','Posición (SD)','Clase doc.ventas','Fecha documento','Nº pedido cliente','Solicitante','Cantidad de pedido','Material','Nombre 1','Unidad de medida', 'Valor neto','Sector']]\n"
   ]
  },
  {
   "cell_type": "code",
   "execution_count": 15,
   "metadata": {},
   "outputs": [
    {
     "name": "stderr",
     "output_type": "stream",
     "text": [
      "C:\\Users\\lravlic\\AppData\\Local\\Temp\\ipykernel_816\\3467426900.py:1: SettingWithCopyWarning: \n",
      "A value is trying to be set on a copy of a slice from a DataFrame.\n",
      "Try using .loc[row_indexer,col_indexer] = value instead\n",
      "\n",
      "See the caveats in the documentation: https://pandas.pydata.org/pandas-docs/stable/user_guide/indexing.html#returning-a-view-versus-a-copy\n",
      "  va05_reducida['AUX'] = va05_reducida['Documento comercial'] + va05_reducida['Posición (SD)']\n"
     ]
    }
   ],
   "source": [
    "va05_reducida['AUX'] = va05_reducida['Documento comercial'] + va05_reducida['Posición (SD)']"
   ]
  },
  {
   "cell_type": "code",
   "execution_count": 16,
   "metadata": {},
   "outputs": [],
   "source": [
    "va05_reducida = va05_reducida.sort_values(by='AUX', ascending=True)"
   ]
  },
  {
   "cell_type": "code",
   "execution_count": 17,
   "metadata": {},
   "outputs": [],
   "source": [
    "va05_reducida['repetido'] = (va05_reducida['AUX'] == va05_reducida['AUX'].shift(1)).astype(int)"
   ]
  },
  {
   "cell_type": "code",
   "execution_count": 18,
   "metadata": {},
   "outputs": [],
   "source": [
    "sectores_permitidos = ['01','02','03','04','05','06','07']\n",
    "\n",
    "# Aplicar el filtro correcto\n",
    "va05_base = va05_reducida[(va05_reducida['Sector'].isin(sectores_permitidos)) & (va05_reducida['repetido'] == 0)]\n",
    "\n"
   ]
  },
  {
   "cell_type": "code",
   "execution_count": null,
   "metadata": {},
   "outputs": [],
   "source": []
  },
  {
   "cell_type": "code",
   "execution_count": 19,
   "metadata": {},
   "outputs": [],
   "source": [
    "ruta = f'C:/Users/{usuario}/Inchcape/Planificación y Compras Chile - Documentos/Bases Indicadores en CSV {hoy.year}-{hoy.month:02d}'\n",
    "ruta_repo = Path(ruta)"
   ]
  },
  {
   "cell_type": "code",
   "execution_count": 20,
   "metadata": {},
   "outputs": [],
   "source": [
    "\n",
    "columnas= ['Nro_pieza_fabricante_1',\t'Cod_Actual_1']\n",
    "ruta_cod = ruta_repo.joinpath('COD_ACTUAL.csv')\n",
    "\n",
    "# Leer el archivo CSV en un DataFrame\n",
    "cadena_de_remplazo = pd.read_csv(ruta_cod)\n",
    "cadena_de_remplazo = cadena_de_remplazo[columnas]\n"
   ]
  },
  {
   "cell_type": "code",
   "execution_count": 21,
   "metadata": {},
   "outputs": [],
   "source": [
    "va05_base = va05_base.merge(cadena_de_remplazo, left_on='Material', right_on='Nro_pieza_fabricante_1', how='left')\n",
    "va05_base['Cod_Actual_1'] = va05_base['Cod_Actual_1'].fillna(va05_base['Material'])\n",
    "va05_base = va05_base.drop('Nro_pieza_fabricante_1', axis=1)"
   ]
  },
  {
   "cell_type": "code",
   "execution_count": 22,
   "metadata": {},
   "outputs": [
    {
     "name": "stderr",
     "output_type": "stream",
     "text": [
      "C:\\Users\\lravlic\\AppData\\Local\\Temp\\ipykernel_816\\3379592884.py:4: DtypeWarning: Columns (0,3,5,6,7,8,11,12,13,14,15,17,18,19) have mixed types. Specify dtype option on import or set low_memory=False.\n",
      "  df_mara = pd.read_csv(ruta_mara, dtype={'Grupo_articulo':'str'})\n"
     ]
    }
   ],
   "source": [
    "ruta_mara = ruta_repo.joinpath('MARA_R3.csv')\n",
    "\n",
    "# Leer el archivo CSV en un DataFrame\n",
    "df_mara = pd.read_csv(ruta_mara, dtype={'Grupo_articulo':'str'})"
   ]
  },
  {
   "cell_type": "code",
   "execution_count": 23,
   "metadata": {},
   "outputs": [],
   "source": [
    "sectores = pd.read_excel(f\"C:/Users/{usuario}/Inchcape/Planificación y Compras Chile - Documentos/Planificación y Compras KPI-Reportes/Gerenciamiento MOS/Panel PBI/Info Sectores.xlsx\",dtype = {'Sector - material':'str'}, usecols=['Sector - material','Sector'])"
   ]
  },
  {
   "cell_type": "code",
   "execution_count": 24,
   "metadata": {},
   "outputs": [],
   "source": [
    "sectores['Sector - material'] = sectores['Sector - material'].str.zfill(2)"
   ]
  },
  {
   "cell_type": "code",
   "execution_count": 25,
   "metadata": {},
   "outputs": [],
   "source": [
    "va05_base = va05_base.merge(sectores, left_on = 'Sector',right_on='Sector - material', how='left')"
   ]
  },
  {
   "cell_type": "code",
   "execution_count": 26,
   "metadata": {},
   "outputs": [],
   "source": [
    "va05_base.rename(columns={'Sector_x':'Sector','Sector_y':'Nombre Sector'}, inplace=True)"
   ]
  },
  {
   "cell_type": "code",
   "execution_count": 27,
   "metadata": {},
   "outputs": [],
   "source": [
    "va05_base.drop('Sector - material', axis=1, inplace=True)"
   ]
  },
  {
   "cell_type": "code",
   "execution_count": 28,
   "metadata": {},
   "outputs": [],
   "source": [
    "va05_base = va05_base.merge(df_mara[['Material_R3','Material_dsc']], left_on='Cod_Actual_1',right_on='Material_R3', how='left')"
   ]
  },
  {
   "cell_type": "markdown",
   "metadata": {},
   "source": [
    "BASE PLANIFICABLE"
   ]
  },
  {
   "cell_type": "code",
   "execution_count": 29,
   "metadata": {},
   "outputs": [],
   "source": [
    "columnas = ['Material','País de origen (Material)']"
   ]
  },
  {
   "cell_type": "code",
   "execution_count": 30,
   "metadata": {},
   "outputs": [],
   "source": [
    "\n",
    "\n",
    "base = pd.read_excel(\"C:/Users/lravlic/Inchcape/Planificación y Compras Chile - Documentos/Planificación y Compras Maestros/Base Planificable/2024-12 Base Planificable/Base Diciembre OEM-AXS.xlsx\", header=1, usecols=columnas)\n"
   ]
  },
  {
   "cell_type": "code",
   "execution_count": 32,
   "metadata": {},
   "outputs": [],
   "source": [
    "base_df =base[columnas]"
   ]
  },
  {
   "cell_type": "code",
   "execution_count": 33,
   "metadata": {},
   "outputs": [],
   "source": [
    "base_df.drop_duplicates(subset='Material', inplace=True)\n",
    "\n",
    "base_df_ue = pd.merge(base_df, cadena_de_remplazo, left_on=\"Material\", right_on=\"Nro_pieza_fabricante_1\", how=\"left\")\n",
    "base_df_ue['Cod_Actual_1'] = base_df_ue['Cod_Actual_1'].fillna(base_df_ue['Material'])\n",
    "\n",
    "base_df_ue = base_df_ue[['Material','Cod_Actual_1','País de origen (Material)']]\n",
    "df_nnss = va05_base.merge(base_df[['Material','País de origen (Material)']], left_on='Material', right_on='Material', how= 'left')\n",
    "base_df_ue.drop_duplicates(subset=['Cod_Actual_1'], keep='first', inplace=True)\n",
    "df_nnss = df_nnss.merge(base_df_ue[['Cod_Actual_1','País de origen (Material)']], left_on='Cod_Actual_1', right_on='Cod_Actual_1', how='left')\n",
    "df_nnss['País de origen (Material)_x'] = df_nnss['País de origen (Material)_x'].fillna(df_nnss['País de origen (Material)_y'])\n",
    "df_nnss.drop(['País de origen (Material)_y'], inplace = True, axis=1)\n",
    "df_nnss = df_nnss.rename(columns = {'País de origen (Material)_x':'Origen'})"
   ]
  },
  {
   "cell_type": "code",
   "execution_count": null,
   "metadata": {},
   "outputs": [],
   "source": [
    "df_mara.drop_duplicates(subset='Material_R3', inplace=True)\n",
    "\n",
    "df_mara_ue = pd.merge(df_mara, cadena_de_remplazo, left_on=\"Material_R3\", right_on=\"Nro_pieza_fabricante_1\", how=\"left\")\n",
    "df_mara_ue['Cod_Actual_1'] = df_mara_ue['Cod_Actual_1'].fillna(df_mara_ue['Material_R3'])\n",
    "\n",
    "df_mara_ue = df_mara_ue[['Cod_Actual_1','Familia','Modelo']]\n",
    "df_nnss = df_nnss.merge(df_mara_ue[['Material_R3','Familia','Modelo']], left_on='Material', right_on='Material_R3', how= 'left')\n"
   ]
  },
  {
   "cell_type": "code",
   "execution_count": 40,
   "metadata": {},
   "outputs": [
    {
     "data": {
      "text/html": [
       "<div>\n",
       "<style scoped>\n",
       "    .dataframe tbody tr th:only-of-type {\n",
       "        vertical-align: middle;\n",
       "    }\n",
       "\n",
       "    .dataframe tbody tr th {\n",
       "        vertical-align: top;\n",
       "    }\n",
       "\n",
       "    .dataframe thead th {\n",
       "        text-align: right;\n",
       "    }\n",
       "</style>\n",
       "<table border=\"1\" class=\"dataframe\">\n",
       "  <thead>\n",
       "    <tr style=\"text-align: right;\">\n",
       "      <th></th>\n",
       "      <th>Documento comercial</th>\n",
       "      <th>Posición (SD)</th>\n",
       "      <th>Clase doc.ventas</th>\n",
       "      <th>Fecha documento</th>\n",
       "      <th>Nº pedido cliente</th>\n",
       "      <th>Solicitante</th>\n",
       "      <th>Cantidad de pedido</th>\n",
       "      <th>Material</th>\n",
       "      <th>Nombre 1</th>\n",
       "      <th>Unidad de medida</th>\n",
       "      <th>...</th>\n",
       "      <th>AUX</th>\n",
       "      <th>repetido</th>\n",
       "      <th>Cod_Actual_1</th>\n",
       "      <th>Nombre Sector</th>\n",
       "      <th>Material_R3_x</th>\n",
       "      <th>Material_dsc</th>\n",
       "      <th>Origen</th>\n",
       "      <th>Material_R3_y</th>\n",
       "      <th>Familia</th>\n",
       "      <th>Modelo</th>\n",
       "    </tr>\n",
       "  </thead>\n",
       "  <tbody>\n",
       "    <tr>\n",
       "      <th>0</th>\n",
       "      <td>6370530</td>\n",
       "      <td>10</td>\n",
       "      <td>ZRDP</td>\n",
       "      <td>2024-12-05</td>\n",
       "      <td>VALPO RPTO SM</td>\n",
       "      <td>286808</td>\n",
       "      <td>1</td>\n",
       "      <td>PC2011340901AA</td>\n",
       "      <td>DISTRIBUIDORA DE VEHICULOS SUZUVAL</td>\n",
       "      <td>UN</td>\n",
       "      <td>...</td>\n",
       "      <td>637053010</td>\n",
       "      <td>0</td>\n",
       "      <td>PC2011340901AA</td>\n",
       "      <td>Changan</td>\n",
       "      <td>PC2011340901AA</td>\n",
       "      <td>REVESTIMIENTO RUEDA POS IZQ</td>\n",
       "      <td>NaN</td>\n",
       "      <td>PC2011340901AA</td>\n",
       "      <td>NaN</td>\n",
       "      <td>CS35 PLUS</td>\n",
       "    </tr>\n",
       "    <tr>\n",
       "      <th>1</th>\n",
       "      <td>6370530</td>\n",
       "      <td>20</td>\n",
       "      <td>ZRDP</td>\n",
       "      <td>2024-12-05</td>\n",
       "      <td>VALPO RPTO SM</td>\n",
       "      <td>286808</td>\n",
       "      <td>1</td>\n",
       "      <td>PC2011520201A1</td>\n",
       "      <td>DISTRIBUIDORA DE VEHICULOS SUZUVAL</td>\n",
       "      <td>UN</td>\n",
       "      <td>...</td>\n",
       "      <td>637053020</td>\n",
       "      <td>0</td>\n",
       "      <td>PC2011520201A1</td>\n",
       "      <td>Changan</td>\n",
       "      <td>PC2011520201A1</td>\n",
       "      <td>PARACHOQUES TRAS</td>\n",
       "      <td>NaN</td>\n",
       "      <td>PC2011520201A1</td>\n",
       "      <td>CARROCERIA</td>\n",
       "      <td>HUNTER</td>\n",
       "    </tr>\n",
       "    <tr>\n",
       "      <th>2</th>\n",
       "      <td>6370530</td>\n",
       "      <td>30</td>\n",
       "      <td>ZRDP</td>\n",
       "      <td>2024-12-05</td>\n",
       "      <td>VALPO RPTO SM</td>\n",
       "      <td>286808</td>\n",
       "      <td>1</td>\n",
       "      <td>PC2011520404</td>\n",
       "      <td>DISTRIBUIDORA DE VEHICULOS SUZUVAL</td>\n",
       "      <td>UN</td>\n",
       "      <td>...</td>\n",
       "      <td>637053030</td>\n",
       "      <td>0</td>\n",
       "      <td>PC2011520404</td>\n",
       "      <td>Changan</td>\n",
       "      <td>PC2011520404</td>\n",
       "      <td>MOLDURA PARACHOQUES TRAS IZQ</td>\n",
       "      <td>NaN</td>\n",
       "      <td>PC2011520404</td>\n",
       "      <td>CARROCERIA</td>\n",
       "      <td>HUNTER</td>\n",
       "    </tr>\n",
       "    <tr>\n",
       "      <th>3</th>\n",
       "      <td>6390408</td>\n",
       "      <td>10</td>\n",
       "      <td>ZRDP</td>\n",
       "      <td>2024-12-02</td>\n",
       "      <td>bobinas oroc</td>\n",
       "      <td>186</td>\n",
       "      <td>2</td>\n",
       "      <td>8200568671</td>\n",
       "      <td>GUSTAVO SAAVEDRA Y CIA. LTDA.</td>\n",
       "      <td>UN</td>\n",
       "      <td>...</td>\n",
       "      <td>639040810</td>\n",
       "      <td>0</td>\n",
       "      <td>8200568671</td>\n",
       "      <td>Renault</td>\n",
       "      <td>8200568671</td>\n",
       "      <td>BOBINA ENCENDIDO</td>\n",
       "      <td>CL</td>\n",
       "      <td>8200568671</td>\n",
       "      <td>REPARACION</td>\n",
       "      <td>RNL CLIO II</td>\n",
       "    </tr>\n",
       "    <tr>\n",
       "      <th>4</th>\n",
       "      <td>6390409</td>\n",
       "      <td>10</td>\n",
       "      <td>ZRDP</td>\n",
       "      <td>2024-12-02</td>\n",
       "      <td>SSTT SWIFT RODAMIE</td>\n",
       "      <td>523079</td>\n",
       "      <td>2</td>\n",
       "      <td>4344071L00000</td>\n",
       "      <td>COMERCIAL ERRAZURIZ SPA</td>\n",
       "      <td>UN</td>\n",
       "      <td>...</td>\n",
       "      <td>639040910</td>\n",
       "      <td>0</td>\n",
       "      <td>4344071L00000</td>\n",
       "      <td>Suzuki</td>\n",
       "      <td>4344071L00000</td>\n",
       "      <td>RODAMINETO RUEDA DEL</td>\n",
       "      <td>NaN</td>\n",
       "      <td>4344071L00000</td>\n",
       "      <td>REPARACION</td>\n",
       "      <td>NEW SWIFT II</td>\n",
       "    </tr>\n",
       "    <tr>\n",
       "      <th>...</th>\n",
       "      <td>...</td>\n",
       "      <td>...</td>\n",
       "      <td>...</td>\n",
       "      <td>...</td>\n",
       "      <td>...</td>\n",
       "      <td>...</td>\n",
       "      <td>...</td>\n",
       "      <td>...</td>\n",
       "      <td>...</td>\n",
       "      <td>...</td>\n",
       "      <td>...</td>\n",
       "      <td>...</td>\n",
       "      <td>...</td>\n",
       "      <td>...</td>\n",
       "      <td>...</td>\n",
       "      <td>...</td>\n",
       "      <td>...</td>\n",
       "      <td>...</td>\n",
       "      <td>...</td>\n",
       "      <td>...</td>\n",
       "      <td>...</td>\n",
       "    </tr>\n",
       "    <tr>\n",
       "      <th>7948</th>\n",
       "      <td>6399073</td>\n",
       "      <td>50</td>\n",
       "      <td>ZRDP</td>\n",
       "      <td>2024-12-08</td>\n",
       "      <td>C079 GM STOCK</td>\n",
       "      <td>939</td>\n",
       "      <td>1</td>\n",
       "      <td>1109130S5500</td>\n",
       "      <td>SOC. MEC. EDUARDO ASPILLAGA HORNAUE</td>\n",
       "      <td>UN</td>\n",
       "      <td>...</td>\n",
       "      <td>639907350</td>\n",
       "      <td>0</td>\n",
       "      <td>1109130S5500</td>\n",
       "      <td>JAC Cars</td>\n",
       "      <td>1109130S5500</td>\n",
       "      <td>FILTRO AIRE</td>\n",
       "      <td>NaN</td>\n",
       "      <td>1109130S5500</td>\n",
       "      <td>MANTENCION</td>\n",
       "      <td>JAC JS8</td>\n",
       "    </tr>\n",
       "    <tr>\n",
       "      <th>7949</th>\n",
       "      <td>6399073</td>\n",
       "      <td>60</td>\n",
       "      <td>ZRDP</td>\n",
       "      <td>2024-12-08</td>\n",
       "      <td>C079 GM STOCK</td>\n",
       "      <td>939</td>\n",
       "      <td>1</td>\n",
       "      <td>1111402XED96</td>\n",
       "      <td>SOC. MEC. EDUARDO ASPILLAGA HORNAUE</td>\n",
       "      <td>UN</td>\n",
       "      <td>...</td>\n",
       "      <td>639907360</td>\n",
       "      <td>0</td>\n",
       "      <td>1111402XED96</td>\n",
       "      <td>Great Wall</td>\n",
       "      <td>1111402XED96</td>\n",
       "      <td>FILTRO COMBUSTIBLE</td>\n",
       "      <td>NaN</td>\n",
       "      <td>1111402XED96</td>\n",
       "      <td>MANTENCION</td>\n",
       "      <td>POER</td>\n",
       "    </tr>\n",
       "    <tr>\n",
       "      <th>7950</th>\n",
       "      <td>6399073</td>\n",
       "      <td>70</td>\n",
       "      <td>ZRDP</td>\n",
       "      <td>2024-12-08</td>\n",
       "      <td>C079 GM STOCK</td>\n",
       "      <td>939</td>\n",
       "      <td>1</td>\n",
       "      <td>1378081PA0000</td>\n",
       "      <td>SOC. MEC. EDUARDO ASPILLAGA HORNAUE</td>\n",
       "      <td>UN</td>\n",
       "      <td>...</td>\n",
       "      <td>639907370</td>\n",
       "      <td>0</td>\n",
       "      <td>1378081PA0000</td>\n",
       "      <td>Suzuki</td>\n",
       "      <td>1378081PA0000</td>\n",
       "      <td>FILTRO AIRE</td>\n",
       "      <td>CL</td>\n",
       "      <td>1378081PA0000</td>\n",
       "      <td>MANTENCION</td>\n",
       "      <td>SZK NEW IGNIS</td>\n",
       "    </tr>\n",
       "    <tr>\n",
       "      <th>7951</th>\n",
       "      <td>6399073</td>\n",
       "      <td>80</td>\n",
       "      <td>ZRDP</td>\n",
       "      <td>2024-12-08</td>\n",
       "      <td>C079 GM STOCK</td>\n",
       "      <td>939</td>\n",
       "      <td>1</td>\n",
       "      <td>13780M68P01000</td>\n",
       "      <td>SOC. MEC. EDUARDO ASPILLAGA HORNAUE</td>\n",
       "      <td>UN</td>\n",
       "      <td>...</td>\n",
       "      <td>639907380</td>\n",
       "      <td>0</td>\n",
       "      <td>13780M68P01000</td>\n",
       "      <td>Suzuki</td>\n",
       "      <td>13780M68P01000</td>\n",
       "      <td>FILTRO AIRE</td>\n",
       "      <td>NaN</td>\n",
       "      <td>13780M68P01000</td>\n",
       "      <td>MANTENCION</td>\n",
       "      <td>SZK NEW BALENO</td>\n",
       "    </tr>\n",
       "    <tr>\n",
       "      <th>7952</th>\n",
       "      <td>6399073</td>\n",
       "      <td>90</td>\n",
       "      <td>ZRDP</td>\n",
       "      <td>2024-12-08</td>\n",
       "      <td>C079 GM STOCK</td>\n",
       "      <td>939</td>\n",
       "      <td>1</td>\n",
       "      <td>13780M72R00000</td>\n",
       "      <td>SOC. MEC. EDUARDO ASPILLAGA HORNAUE</td>\n",
       "      <td>UN</td>\n",
       "      <td>...</td>\n",
       "      <td>639907390</td>\n",
       "      <td>0</td>\n",
       "      <td>13780M72R00000</td>\n",
       "      <td>Suzuki</td>\n",
       "      <td>13780M72R00000</td>\n",
       "      <td>FILTRO AIRE</td>\n",
       "      <td>NaN</td>\n",
       "      <td>13780M72R00000</td>\n",
       "      <td>MANTENCION</td>\n",
       "      <td>SZK BALENO A3K415</td>\n",
       "    </tr>\n",
       "  </tbody>\n",
       "</table>\n",
       "<p>7953 rows × 22 columns</p>\n",
       "</div>"
      ],
      "text/plain": [
       "     Documento comercial Posición (SD) Clase doc.ventas Fecha documento  \\\n",
       "0                6370530            10             ZRDP      2024-12-05   \n",
       "1                6370530            20             ZRDP      2024-12-05   \n",
       "2                6370530            30             ZRDP      2024-12-05   \n",
       "3                6390408            10             ZRDP      2024-12-02   \n",
       "4                6390409            10             ZRDP      2024-12-02   \n",
       "...                  ...           ...              ...             ...   \n",
       "7948             6399073            50             ZRDP      2024-12-08   \n",
       "7949             6399073            60             ZRDP      2024-12-08   \n",
       "7950             6399073            70             ZRDP      2024-12-08   \n",
       "7951             6399073            80             ZRDP      2024-12-08   \n",
       "7952             6399073            90             ZRDP      2024-12-08   \n",
       "\n",
       "       Nº pedido cliente Solicitante  Cantidad de pedido        Material  \\\n",
       "0          VALPO RPTO SM      286808                   1  PC2011340901AA   \n",
       "1          VALPO RPTO SM      286808                   1  PC2011520201A1   \n",
       "2          VALPO RPTO SM      286808                   1    PC2011520404   \n",
       "3           bobinas oroc         186                   2      8200568671   \n",
       "4     SSTT SWIFT RODAMIE      523079                   2   4344071L00000   \n",
       "...                  ...         ...                 ...             ...   \n",
       "7948       C079 GM STOCK         939                   1    1109130S5500   \n",
       "7949       C079 GM STOCK         939                   1    1111402XED96   \n",
       "7950       C079 GM STOCK         939                   1   1378081PA0000   \n",
       "7951       C079 GM STOCK         939                   1  13780M68P01000   \n",
       "7952       C079 GM STOCK         939                   1  13780M72R00000   \n",
       "\n",
       "                                 Nombre 1 Unidad de medida  ...        AUX  \\\n",
       "0      DISTRIBUIDORA DE VEHICULOS SUZUVAL               UN  ...  637053010   \n",
       "1      DISTRIBUIDORA DE VEHICULOS SUZUVAL               UN  ...  637053020   \n",
       "2      DISTRIBUIDORA DE VEHICULOS SUZUVAL               UN  ...  637053030   \n",
       "3           GUSTAVO SAAVEDRA Y CIA. LTDA.               UN  ...  639040810   \n",
       "4                 COMERCIAL ERRAZURIZ SPA               UN  ...  639040910   \n",
       "...                                   ...              ...  ...        ...   \n",
       "7948  SOC. MEC. EDUARDO ASPILLAGA HORNAUE               UN  ...  639907350   \n",
       "7949  SOC. MEC. EDUARDO ASPILLAGA HORNAUE               UN  ...  639907360   \n",
       "7950  SOC. MEC. EDUARDO ASPILLAGA HORNAUE               UN  ...  639907370   \n",
       "7951  SOC. MEC. EDUARDO ASPILLAGA HORNAUE               UN  ...  639907380   \n",
       "7952  SOC. MEC. EDUARDO ASPILLAGA HORNAUE               UN  ...  639907390   \n",
       "\n",
       "     repetido    Cod_Actual_1  Nombre Sector   Material_R3_x  \\\n",
       "0           0  PC2011340901AA        Changan  PC2011340901AA   \n",
       "1           0  PC2011520201A1        Changan  PC2011520201A1   \n",
       "2           0    PC2011520404        Changan    PC2011520404   \n",
       "3           0      8200568671        Renault      8200568671   \n",
       "4           0   4344071L00000         Suzuki   4344071L00000   \n",
       "...       ...             ...            ...             ...   \n",
       "7948        0    1109130S5500       JAC Cars    1109130S5500   \n",
       "7949        0    1111402XED96     Great Wall    1111402XED96   \n",
       "7950        0   1378081PA0000         Suzuki   1378081PA0000   \n",
       "7951        0  13780M68P01000         Suzuki  13780M68P01000   \n",
       "7952        0  13780M72R00000         Suzuki  13780M72R00000   \n",
       "\n",
       "                      Material_dsc Origen   Material_R3_y     Familia  \\\n",
       "0      REVESTIMIENTO RUEDA POS IZQ    NaN  PC2011340901AA         NaN   \n",
       "1                 PARACHOQUES TRAS    NaN  PC2011520201A1  CARROCERIA   \n",
       "2     MOLDURA PARACHOQUES TRAS IZQ    NaN    PC2011520404  CARROCERIA   \n",
       "3                 BOBINA ENCENDIDO     CL      8200568671  REPARACION   \n",
       "4             RODAMINETO RUEDA DEL    NaN   4344071L00000  REPARACION   \n",
       "...                            ...    ...             ...         ...   \n",
       "7948                   FILTRO AIRE    NaN    1109130S5500  MANTENCION   \n",
       "7949            FILTRO COMBUSTIBLE    NaN    1111402XED96  MANTENCION   \n",
       "7950                   FILTRO AIRE     CL   1378081PA0000  MANTENCION   \n",
       "7951                   FILTRO AIRE    NaN  13780M68P01000  MANTENCION   \n",
       "7952                   FILTRO AIRE    NaN  13780M72R00000  MANTENCION   \n",
       "\n",
       "                 Modelo  \n",
       "0             CS35 PLUS  \n",
       "1                HUNTER  \n",
       "2                HUNTER  \n",
       "3           RNL CLIO II  \n",
       "4          NEW SWIFT II  \n",
       "...                 ...  \n",
       "7948            JAC JS8  \n",
       "7949               POER  \n",
       "7950      SZK NEW IGNIS  \n",
       "7951     SZK NEW BALENO  \n",
       "7952  SZK BALENO A3K415  \n",
       "\n",
       "[7953 rows x 22 columns]"
      ]
     },
     "execution_count": 40,
     "metadata": {},
     "output_type": "execute_result"
    }
   ],
   "source": [
    "df_nnss"
   ]
  },
  {
   "cell_type": "code",
   "execution_count": 41,
   "metadata": {},
   "outputs": [],
   "source": [
    "df_mara_ue.drop_duplicates(subset=['Cod_Actual_1'], keep='first', inplace=True)\n",
    "df_nnss = df_nnss.merge(df_mara_ue[['Cod_Actual_1','Familia','Modelo']], left_on='Cod_Actual_1', right_on='Cod_Actual_1', how='left')\n"
   ]
  },
  {
   "cell_type": "code",
   "execution_count": 42,
   "metadata": {},
   "outputs": [
    {
     "data": {
      "text/html": [
       "<div>\n",
       "<style scoped>\n",
       "    .dataframe tbody tr th:only-of-type {\n",
       "        vertical-align: middle;\n",
       "    }\n",
       "\n",
       "    .dataframe tbody tr th {\n",
       "        vertical-align: top;\n",
       "    }\n",
       "\n",
       "    .dataframe thead th {\n",
       "        text-align: right;\n",
       "    }\n",
       "</style>\n",
       "<table border=\"1\" class=\"dataframe\">\n",
       "  <thead>\n",
       "    <tr style=\"text-align: right;\">\n",
       "      <th></th>\n",
       "      <th>Documento comercial</th>\n",
       "      <th>Posición (SD)</th>\n",
       "      <th>Clase doc.ventas</th>\n",
       "      <th>Fecha documento</th>\n",
       "      <th>Nº pedido cliente</th>\n",
       "      <th>Solicitante</th>\n",
       "      <th>Cantidad de pedido</th>\n",
       "      <th>Material</th>\n",
       "      <th>Nombre 1</th>\n",
       "      <th>Unidad de medida</th>\n",
       "      <th>...</th>\n",
       "      <th>Cod_Actual_1</th>\n",
       "      <th>Nombre Sector</th>\n",
       "      <th>Material_R3_x</th>\n",
       "      <th>Material_dsc</th>\n",
       "      <th>Origen</th>\n",
       "      <th>Material_R3_y</th>\n",
       "      <th>Familia_x</th>\n",
       "      <th>Modelo_x</th>\n",
       "      <th>Familia_y</th>\n",
       "      <th>Modelo_y</th>\n",
       "    </tr>\n",
       "  </thead>\n",
       "  <tbody>\n",
       "    <tr>\n",
       "      <th>0</th>\n",
       "      <td>6370530</td>\n",
       "      <td>10</td>\n",
       "      <td>ZRDP</td>\n",
       "      <td>2024-12-05</td>\n",
       "      <td>VALPO RPTO SM</td>\n",
       "      <td>286808</td>\n",
       "      <td>1</td>\n",
       "      <td>PC2011340901AA</td>\n",
       "      <td>DISTRIBUIDORA DE VEHICULOS SUZUVAL</td>\n",
       "      <td>UN</td>\n",
       "      <td>...</td>\n",
       "      <td>PC2011340901AA</td>\n",
       "      <td>Changan</td>\n",
       "      <td>PC2011340901AA</td>\n",
       "      <td>REVESTIMIENTO RUEDA POS IZQ</td>\n",
       "      <td>NaN</td>\n",
       "      <td>PC2011340901AA</td>\n",
       "      <td>NaN</td>\n",
       "      <td>CS35 PLUS</td>\n",
       "      <td>NaN</td>\n",
       "      <td>CS35 PLUS</td>\n",
       "    </tr>\n",
       "    <tr>\n",
       "      <th>1</th>\n",
       "      <td>6370530</td>\n",
       "      <td>20</td>\n",
       "      <td>ZRDP</td>\n",
       "      <td>2024-12-05</td>\n",
       "      <td>VALPO RPTO SM</td>\n",
       "      <td>286808</td>\n",
       "      <td>1</td>\n",
       "      <td>PC2011520201A1</td>\n",
       "      <td>DISTRIBUIDORA DE VEHICULOS SUZUVAL</td>\n",
       "      <td>UN</td>\n",
       "      <td>...</td>\n",
       "      <td>PC2011520201A1</td>\n",
       "      <td>Changan</td>\n",
       "      <td>PC2011520201A1</td>\n",
       "      <td>PARACHOQUES TRAS</td>\n",
       "      <td>NaN</td>\n",
       "      <td>PC2011520201A1</td>\n",
       "      <td>CARROCERIA</td>\n",
       "      <td>HUNTER</td>\n",
       "      <td>CARROCERIA</td>\n",
       "      <td>HUNTER</td>\n",
       "    </tr>\n",
       "    <tr>\n",
       "      <th>2</th>\n",
       "      <td>6370530</td>\n",
       "      <td>30</td>\n",
       "      <td>ZRDP</td>\n",
       "      <td>2024-12-05</td>\n",
       "      <td>VALPO RPTO SM</td>\n",
       "      <td>286808</td>\n",
       "      <td>1</td>\n",
       "      <td>PC2011520404</td>\n",
       "      <td>DISTRIBUIDORA DE VEHICULOS SUZUVAL</td>\n",
       "      <td>UN</td>\n",
       "      <td>...</td>\n",
       "      <td>PC2011520404</td>\n",
       "      <td>Changan</td>\n",
       "      <td>PC2011520404</td>\n",
       "      <td>MOLDURA PARACHOQUES TRAS IZQ</td>\n",
       "      <td>NaN</td>\n",
       "      <td>PC2011520404</td>\n",
       "      <td>CARROCERIA</td>\n",
       "      <td>HUNTER</td>\n",
       "      <td>CARROCERIA</td>\n",
       "      <td>HUNTER</td>\n",
       "    </tr>\n",
       "    <tr>\n",
       "      <th>3</th>\n",
       "      <td>6390408</td>\n",
       "      <td>10</td>\n",
       "      <td>ZRDP</td>\n",
       "      <td>2024-12-02</td>\n",
       "      <td>bobinas oroc</td>\n",
       "      <td>186</td>\n",
       "      <td>2</td>\n",
       "      <td>8200568671</td>\n",
       "      <td>GUSTAVO SAAVEDRA Y CIA. LTDA.</td>\n",
       "      <td>UN</td>\n",
       "      <td>...</td>\n",
       "      <td>8200568671</td>\n",
       "      <td>Renault</td>\n",
       "      <td>8200568671</td>\n",
       "      <td>BOBINA ENCENDIDO</td>\n",
       "      <td>CL</td>\n",
       "      <td>8200568671</td>\n",
       "      <td>REPARACION</td>\n",
       "      <td>RNL CLIO II</td>\n",
       "      <td>REPARACION</td>\n",
       "      <td>Emerg</td>\n",
       "    </tr>\n",
       "    <tr>\n",
       "      <th>4</th>\n",
       "      <td>6390409</td>\n",
       "      <td>10</td>\n",
       "      <td>ZRDP</td>\n",
       "      <td>2024-12-02</td>\n",
       "      <td>SSTT SWIFT RODAMIE</td>\n",
       "      <td>523079</td>\n",
       "      <td>2</td>\n",
       "      <td>4344071L00000</td>\n",
       "      <td>COMERCIAL ERRAZURIZ SPA</td>\n",
       "      <td>UN</td>\n",
       "      <td>...</td>\n",
       "      <td>4344071L00000</td>\n",
       "      <td>Suzuki</td>\n",
       "      <td>4344071L00000</td>\n",
       "      <td>RODAMINETO RUEDA DEL</td>\n",
       "      <td>NaN</td>\n",
       "      <td>4344071L00000</td>\n",
       "      <td>REPARACION</td>\n",
       "      <td>NEW SWIFT II</td>\n",
       "      <td>REPARACION</td>\n",
       "      <td>NEW SWIFT II</td>\n",
       "    </tr>\n",
       "    <tr>\n",
       "      <th>...</th>\n",
       "      <td>...</td>\n",
       "      <td>...</td>\n",
       "      <td>...</td>\n",
       "      <td>...</td>\n",
       "      <td>...</td>\n",
       "      <td>...</td>\n",
       "      <td>...</td>\n",
       "      <td>...</td>\n",
       "      <td>...</td>\n",
       "      <td>...</td>\n",
       "      <td>...</td>\n",
       "      <td>...</td>\n",
       "      <td>...</td>\n",
       "      <td>...</td>\n",
       "      <td>...</td>\n",
       "      <td>...</td>\n",
       "      <td>...</td>\n",
       "      <td>...</td>\n",
       "      <td>...</td>\n",
       "      <td>...</td>\n",
       "      <td>...</td>\n",
       "    </tr>\n",
       "    <tr>\n",
       "      <th>7948</th>\n",
       "      <td>6399073</td>\n",
       "      <td>50</td>\n",
       "      <td>ZRDP</td>\n",
       "      <td>2024-12-08</td>\n",
       "      <td>C079 GM STOCK</td>\n",
       "      <td>939</td>\n",
       "      <td>1</td>\n",
       "      <td>1109130S5500</td>\n",
       "      <td>SOC. MEC. EDUARDO ASPILLAGA HORNAUE</td>\n",
       "      <td>UN</td>\n",
       "      <td>...</td>\n",
       "      <td>1109130S5500</td>\n",
       "      <td>JAC Cars</td>\n",
       "      <td>1109130S5500</td>\n",
       "      <td>FILTRO AIRE</td>\n",
       "      <td>NaN</td>\n",
       "      <td>1109130S5500</td>\n",
       "      <td>MANTENCION</td>\n",
       "      <td>JAC JS8</td>\n",
       "      <td>MANTENCION</td>\n",
       "      <td>JAC JS8</td>\n",
       "    </tr>\n",
       "    <tr>\n",
       "      <th>7949</th>\n",
       "      <td>6399073</td>\n",
       "      <td>60</td>\n",
       "      <td>ZRDP</td>\n",
       "      <td>2024-12-08</td>\n",
       "      <td>C079 GM STOCK</td>\n",
       "      <td>939</td>\n",
       "      <td>1</td>\n",
       "      <td>1111402XED96</td>\n",
       "      <td>SOC. MEC. EDUARDO ASPILLAGA HORNAUE</td>\n",
       "      <td>UN</td>\n",
       "      <td>...</td>\n",
       "      <td>1111402XED96</td>\n",
       "      <td>Great Wall</td>\n",
       "      <td>1111402XED96</td>\n",
       "      <td>FILTRO COMBUSTIBLE</td>\n",
       "      <td>NaN</td>\n",
       "      <td>1111402XED96</td>\n",
       "      <td>MANTENCION</td>\n",
       "      <td>POER</td>\n",
       "      <td>MANTENCION</td>\n",
       "      <td>POER</td>\n",
       "    </tr>\n",
       "    <tr>\n",
       "      <th>7950</th>\n",
       "      <td>6399073</td>\n",
       "      <td>70</td>\n",
       "      <td>ZRDP</td>\n",
       "      <td>2024-12-08</td>\n",
       "      <td>C079 GM STOCK</td>\n",
       "      <td>939</td>\n",
       "      <td>1</td>\n",
       "      <td>1378081PA0000</td>\n",
       "      <td>SOC. MEC. EDUARDO ASPILLAGA HORNAUE</td>\n",
       "      <td>UN</td>\n",
       "      <td>...</td>\n",
       "      <td>1378081PA0000</td>\n",
       "      <td>Suzuki</td>\n",
       "      <td>1378081PA0000</td>\n",
       "      <td>FILTRO AIRE</td>\n",
       "      <td>CL</td>\n",
       "      <td>1378081PA0000</td>\n",
       "      <td>MANTENCION</td>\n",
       "      <td>SZK NEW IGNIS</td>\n",
       "      <td>MANTENCION</td>\n",
       "      <td>SZK NEW IGNIS</td>\n",
       "    </tr>\n",
       "    <tr>\n",
       "      <th>7951</th>\n",
       "      <td>6399073</td>\n",
       "      <td>80</td>\n",
       "      <td>ZRDP</td>\n",
       "      <td>2024-12-08</td>\n",
       "      <td>C079 GM STOCK</td>\n",
       "      <td>939</td>\n",
       "      <td>1</td>\n",
       "      <td>13780M68P01000</td>\n",
       "      <td>SOC. MEC. EDUARDO ASPILLAGA HORNAUE</td>\n",
       "      <td>UN</td>\n",
       "      <td>...</td>\n",
       "      <td>13780M68P01000</td>\n",
       "      <td>Suzuki</td>\n",
       "      <td>13780M68P01000</td>\n",
       "      <td>FILTRO AIRE</td>\n",
       "      <td>NaN</td>\n",
       "      <td>13780M68P01000</td>\n",
       "      <td>MANTENCION</td>\n",
       "      <td>SZK NEW BALENO</td>\n",
       "      <td>MANTENCION</td>\n",
       "      <td>SZK NEW BALENO</td>\n",
       "    </tr>\n",
       "    <tr>\n",
       "      <th>7952</th>\n",
       "      <td>6399073</td>\n",
       "      <td>90</td>\n",
       "      <td>ZRDP</td>\n",
       "      <td>2024-12-08</td>\n",
       "      <td>C079 GM STOCK</td>\n",
       "      <td>939</td>\n",
       "      <td>1</td>\n",
       "      <td>13780M72R00000</td>\n",
       "      <td>SOC. MEC. EDUARDO ASPILLAGA HORNAUE</td>\n",
       "      <td>UN</td>\n",
       "      <td>...</td>\n",
       "      <td>13780M72R00000</td>\n",
       "      <td>Suzuki</td>\n",
       "      <td>13780M72R00000</td>\n",
       "      <td>FILTRO AIRE</td>\n",
       "      <td>NaN</td>\n",
       "      <td>13780M72R00000</td>\n",
       "      <td>MANTENCION</td>\n",
       "      <td>SZK BALENO A3K415</td>\n",
       "      <td>MANTENCION</td>\n",
       "      <td>SZK BALENO A3K415</td>\n",
       "    </tr>\n",
       "  </tbody>\n",
       "</table>\n",
       "<p>7953 rows × 24 columns</p>\n",
       "</div>"
      ],
      "text/plain": [
       "     Documento comercial Posición (SD) Clase doc.ventas Fecha documento  \\\n",
       "0                6370530            10             ZRDP      2024-12-05   \n",
       "1                6370530            20             ZRDP      2024-12-05   \n",
       "2                6370530            30             ZRDP      2024-12-05   \n",
       "3                6390408            10             ZRDP      2024-12-02   \n",
       "4                6390409            10             ZRDP      2024-12-02   \n",
       "...                  ...           ...              ...             ...   \n",
       "7948             6399073            50             ZRDP      2024-12-08   \n",
       "7949             6399073            60             ZRDP      2024-12-08   \n",
       "7950             6399073            70             ZRDP      2024-12-08   \n",
       "7951             6399073            80             ZRDP      2024-12-08   \n",
       "7952             6399073            90             ZRDP      2024-12-08   \n",
       "\n",
       "       Nº pedido cliente Solicitante  Cantidad de pedido        Material  \\\n",
       "0          VALPO RPTO SM      286808                   1  PC2011340901AA   \n",
       "1          VALPO RPTO SM      286808                   1  PC2011520201A1   \n",
       "2          VALPO RPTO SM      286808                   1    PC2011520404   \n",
       "3           bobinas oroc         186                   2      8200568671   \n",
       "4     SSTT SWIFT RODAMIE      523079                   2   4344071L00000   \n",
       "...                  ...         ...                 ...             ...   \n",
       "7948       C079 GM STOCK         939                   1    1109130S5500   \n",
       "7949       C079 GM STOCK         939                   1    1111402XED96   \n",
       "7950       C079 GM STOCK         939                   1   1378081PA0000   \n",
       "7951       C079 GM STOCK         939                   1  13780M68P01000   \n",
       "7952       C079 GM STOCK         939                   1  13780M72R00000   \n",
       "\n",
       "                                 Nombre 1 Unidad de medida  ...  \\\n",
       "0      DISTRIBUIDORA DE VEHICULOS SUZUVAL               UN  ...   \n",
       "1      DISTRIBUIDORA DE VEHICULOS SUZUVAL               UN  ...   \n",
       "2      DISTRIBUIDORA DE VEHICULOS SUZUVAL               UN  ...   \n",
       "3           GUSTAVO SAAVEDRA Y CIA. LTDA.               UN  ...   \n",
       "4                 COMERCIAL ERRAZURIZ SPA               UN  ...   \n",
       "...                                   ...              ...  ...   \n",
       "7948  SOC. MEC. EDUARDO ASPILLAGA HORNAUE               UN  ...   \n",
       "7949  SOC. MEC. EDUARDO ASPILLAGA HORNAUE               UN  ...   \n",
       "7950  SOC. MEC. EDUARDO ASPILLAGA HORNAUE               UN  ...   \n",
       "7951  SOC. MEC. EDUARDO ASPILLAGA HORNAUE               UN  ...   \n",
       "7952  SOC. MEC. EDUARDO ASPILLAGA HORNAUE               UN  ...   \n",
       "\n",
       "        Cod_Actual_1 Nombre Sector   Material_R3_x  \\\n",
       "0     PC2011340901AA       Changan  PC2011340901AA   \n",
       "1     PC2011520201A1       Changan  PC2011520201A1   \n",
       "2       PC2011520404       Changan    PC2011520404   \n",
       "3         8200568671       Renault      8200568671   \n",
       "4      4344071L00000        Suzuki   4344071L00000   \n",
       "...              ...           ...             ...   \n",
       "7948    1109130S5500      JAC Cars    1109130S5500   \n",
       "7949    1111402XED96    Great Wall    1111402XED96   \n",
       "7950   1378081PA0000        Suzuki   1378081PA0000   \n",
       "7951  13780M68P01000        Suzuki  13780M68P01000   \n",
       "7952  13780M72R00000        Suzuki  13780M72R00000   \n",
       "\n",
       "                      Material_dsc Origen   Material_R3_y   Familia_x  \\\n",
       "0      REVESTIMIENTO RUEDA POS IZQ    NaN  PC2011340901AA         NaN   \n",
       "1                 PARACHOQUES TRAS    NaN  PC2011520201A1  CARROCERIA   \n",
       "2     MOLDURA PARACHOQUES TRAS IZQ    NaN    PC2011520404  CARROCERIA   \n",
       "3                 BOBINA ENCENDIDO     CL      8200568671  REPARACION   \n",
       "4             RODAMINETO RUEDA DEL    NaN   4344071L00000  REPARACION   \n",
       "...                            ...    ...             ...         ...   \n",
       "7948                   FILTRO AIRE    NaN    1109130S5500  MANTENCION   \n",
       "7949            FILTRO COMBUSTIBLE    NaN    1111402XED96  MANTENCION   \n",
       "7950                   FILTRO AIRE     CL   1378081PA0000  MANTENCION   \n",
       "7951                   FILTRO AIRE    NaN  13780M68P01000  MANTENCION   \n",
       "7952                   FILTRO AIRE    NaN  13780M72R00000  MANTENCION   \n",
       "\n",
       "               Modelo_x   Familia_y           Modelo_y  \n",
       "0             CS35 PLUS         NaN          CS35 PLUS  \n",
       "1                HUNTER  CARROCERIA             HUNTER  \n",
       "2                HUNTER  CARROCERIA             HUNTER  \n",
       "3           RNL CLIO II  REPARACION              Emerg  \n",
       "4          NEW SWIFT II  REPARACION       NEW SWIFT II  \n",
       "...                 ...         ...                ...  \n",
       "7948            JAC JS8  MANTENCION            JAC JS8  \n",
       "7949               POER  MANTENCION               POER  \n",
       "7950      SZK NEW IGNIS  MANTENCION      SZK NEW IGNIS  \n",
       "7951     SZK NEW BALENO  MANTENCION     SZK NEW BALENO  \n",
       "7952  SZK BALENO A3K415  MANTENCION  SZK BALENO A3K415  \n",
       "\n",
       "[7953 rows x 24 columns]"
      ]
     },
     "execution_count": 42,
     "metadata": {},
     "output_type": "execute_result"
    }
   ],
   "source": [
    "df_nnss"
   ]
  },
  {
   "cell_type": "code",
   "execution_count": 43,
   "metadata": {},
   "outputs": [],
   "source": [
    "df_nnss['Familia_x'] = df_nnss['Familia_x'].fillna(df_nnss['Familia_y'])\n",
    "df_nnss['Modelo_x'] = df_nnss['Modelo_x'].fillna(df_nnss['Modelo_y'])\n",
    "df_nnss.drop(columns = ['Familia_y','Modelo_y'], inplace = True, axis=1)\n",
    "df_nnss = df_nnss.rename(columns = {'Familia_x':'Familia', 'Modelo_x':'Modelo'})"
   ]
  },
  {
   "cell_type": "code",
   "execution_count": 44,
   "metadata": {},
   "outputs": [],
   "source": [
    "df_nnss.drop(columns={'Material_R3_x', 'Material_R3_y'}, inplace=True)"
   ]
  },
  {
   "cell_type": "code",
   "execution_count": 45,
   "metadata": {},
   "outputs": [],
   "source": [
    "p_mantencion = pd.read_excel(\"C:/Users/lravlic/Inchcape/Planificación y Compras Chile - Documentos/Planificación y Compras Maestros/Mantención/SKU Mantenciones OEM 1.xlsx\", sheet_name = 'Plan de mantencion Antiguo', dtype={'UE Junio':'str','Plan de mantención':'str'})\n"
   ]
  },
  {
   "cell_type": "code",
   "execution_count": 46,
   "metadata": {},
   "outputs": [],
   "source": [
    "p_mantencion.rename(columns={'UE Junio':'UE','Plan de mantención':'Plan_mantencion'}, inplace=True)"
   ]
  },
  {
   "cell_type": "code",
   "execution_count": 47,
   "metadata": {},
   "outputs": [],
   "source": [
    "p_mantencion_ue = pd.merge(p_mantencion, cadena_de_remplazo, left_on=\"UE\", right_on=\"Nro_pieza_fabricante_1\", how=\"left\")\n",
    "p_mantencion_ue['Cod_Actual_1'] = p_mantencion_ue['Cod_Actual_1'].fillna(p_mantencion_ue['UE'])"
   ]
  },
  {
   "cell_type": "code",
   "execution_count": 48,
   "metadata": {},
   "outputs": [],
   "source": [
    "p_mantencion_ue['Plan_mantencion'].fillna(0, inplace=True)\n"
   ]
  },
  {
   "cell_type": "code",
   "execution_count": 49,
   "metadata": {},
   "outputs": [],
   "source": [
    "# p_mantencion.drop_duplicates(subset='UE', inplace=True)\n",
    "# p_mantencion_ue = pd.merge(p_mantencion, cadena_de_remplazo, left_on=\"UE\", right_on=\"Nro_pieza_fabricante_1\", how=\"left\")\n",
    "# p_mantencion_ue['Cod_Actual_1'] = p_mantencion_ue['Cod_Actual_1'].fillna(p_mantencion_ue['UE'])\n",
    "\n",
    "# p_mantencion = p_mantencion[['UE','Plan_mantencion']]\n",
    "# df_nnss = df_nnss.merge(p_mantencion, left_on='Material', right_on='UE', how= 'left')\n",
    "# p_mantencion_ue.drop_duplicates(subset=['Cod_Actual_1'], keep='first', inplace=True)\n",
    "# df_nnss = df_nnss.merge(p_mantencion_ue[['Cod_Actual_1','Plan_mantencion']], left_on='Cod_Actual_1', right_on='Cod_Actual_1', how='left')\n",
    "# df_nnss['Plan_mantencion_x'] = df_nnss['Plan_mantencion_x'].fillna(df_nnss['Plan_mantencion_y'])\n",
    "# df_nnss.drop(columns = ['Plan_mantencion_y'], inplace = True, axis=1)\n",
    "# df_nnss = df_nnss.rename(columns = {'Plan_mantencion_x':'Plan_mantencion'})"
   ]
  },
  {
   "cell_type": "code",
   "execution_count": null,
   "metadata": {},
   "outputs": [],
   "source": []
  },
  {
   "cell_type": "code",
   "execution_count": 50,
   "metadata": {},
   "outputs": [],
   "source": [
    "\n",
    "p_mantencion_ue.drop_duplicates(subset=['Cod_Actual_1'], keep='first', inplace=True)\n",
    "df_nnss = df_nnss.merge(p_mantencion_ue[['Cod_Actual_1','Plan_mantencion']], left_on='Cod_Actual_1', right_on='Cod_Actual_1', how='left')\n"
   ]
  },
  {
   "cell_type": "code",
   "execution_count": 51,
   "metadata": {},
   "outputs": [],
   "source": [
    "\n",
    "df_nnss['Plan_mantencion'].fillna('0',inplace=True)"
   ]
  },
  {
   "cell_type": "code",
   "execution_count": 52,
   "metadata": {},
   "outputs": [],
   "source": [
    "path = \"C:/Users/lravlic/Inchcape/Planificación y Compras Chile - Documentos/Bases Indicadores en CSV 2024-12/Segmentacion WebApp\""
   ]
  },
  {
   "cell_type": "code",
   "execution_count": 53,
   "metadata": {},
   "outputs": [
    {
     "name": "stdout",
     "output_type": "stream",
     "text": [
      "C:/Users/lravlic/Inchcape/Planificación y Compras Chile - Documentos/Bases Indicadores en CSV 2024-12/Segmentacion WebApp/Segmentation-AMERICAS-CHILE-CHANGAN-12062024.csv\n",
      "C:/Users/lravlic/Inchcape/Planificación y Compras Chile - Documentos/Bases Indicadores en CSV 2024-12/Segmentacion WebApp/Segmentation-AMERICAS-CHILE-DFSK-12062024.csv\n",
      "C:/Users/lravlic/Inchcape/Planificación y Compras Chile - Documentos/Bases Indicadores en CSV 2024-12/Segmentacion WebApp/Segmentation-AMERICAS-CHILE-GREAT WALL-12062024.csv\n",
      "C:/Users/lravlic/Inchcape/Planificación y Compras Chile - Documentos/Bases Indicadores en CSV 2024-12/Segmentacion WebApp/Segmentation-AMERICAS-CHILE-JAC CARS-12062024.csv\n",
      "C:/Users/lravlic/Inchcape/Planificación y Compras Chile - Documentos/Bases Indicadores en CSV 2024-12/Segmentacion WebApp/Segmentation-AMERICAS-CHILE-MAZDA-12062024.csv\n",
      "C:/Users/lravlic/Inchcape/Planificación y Compras Chile - Documentos/Bases Indicadores en CSV 2024-12/Segmentacion WebApp/Segmentation-AMERICAS-CHILE-RENAULT-12062024.csv\n",
      "C:/Users/lravlic/Inchcape/Planificación y Compras Chile - Documentos/Bases Indicadores en CSV 2024-12/Segmentacion WebApp/Segmentation-AMERICAS-CHILE-SUBARU-12062024.csv\n",
      "C:/Users/lravlic/Inchcape/Planificación y Compras Chile - Documentos/Bases Indicadores en CSV 2024-12/Segmentacion WebApp/Segmentation-AMERICAS-CHILE-SUZUKI-12062024.csv\n"
     ]
    }
   ],
   "source": [
    "dfs = []\n",
    "carpeta = os.listdir(path)\n",
    "for i in carpeta:\n",
    "    print(path + '/'+ i)\n",
    "    df = pd.read_csv(path + '/'+ i)\n",
    "    dfs.append(df)\n"
   ]
  },
  {
   "cell_type": "code",
   "execution_count": 54,
   "metadata": {},
   "outputs": [],
   "source": [
    "for df in dfs:\n",
    "    df = df[['SKU ERP','Total Segmentation']]"
   ]
  },
  {
   "cell_type": "code",
   "execution_count": 55,
   "metadata": {},
   "outputs": [],
   "source": [
    "df_consolidado= pd.concat(dfs)"
   ]
  },
  {
   "cell_type": "code",
   "execution_count": 56,
   "metadata": {},
   "outputs": [],
   "source": [
    "df_consolidado = df_consolidado[['SKU ERP','Total Segmentation']]"
   ]
  },
  {
   "cell_type": "code",
   "execution_count": 57,
   "metadata": {},
   "outputs": [
    {
     "data": {
      "text/plain": [
       "Total Segmentation\n",
       "OO    197126\n",
       "OD     14742\n",
       "CD     12368\n",
       "CC      6597\n",
       "CB      3735\n",
       "OC      2224\n",
       "AA      1866\n",
       "BB      1864\n",
       "BA      1809\n",
       "CA      1767\n",
       "BC      1554\n",
       "BD      1007\n",
       "AB       655\n",
       "OB       425\n",
       "AC       248\n",
       "CO       127\n",
       "AD       126\n",
       "OA        46\n",
       "BO        36\n",
       "AO         2\n",
       "Name: count, dtype: int64"
      ]
     },
     "execution_count": 57,
     "metadata": {},
     "output_type": "execute_result"
    }
   ],
   "source": [
    "df_consolidado['Total Segmentation'].value_counts()"
   ]
  },
  {
   "cell_type": "code",
   "execution_count": 58,
   "metadata": {},
   "outputs": [],
   "source": [
    "segmentacion = df_consolidado"
   ]
  },
  {
   "cell_type": "code",
   "execution_count": 53,
   "metadata": {},
   "outputs": [],
   "source": [
    "segmentacion.to_csv(\"C:/Users/lravlic/Inchcape/Planificación y Compras Chile - Documentos/Bases Indicadores en CSV 2024-12/segmentacion_consolidado.csv\")"
   ]
  },
  {
   "cell_type": "code",
   "execution_count": 59,
   "metadata": {},
   "outputs": [],
   "source": [
    "\n",
    "segmentacion_ue = pd.merge(segmentacion, cadena_de_remplazo, left_on=\"SKU ERP\", right_on=\"Nro_pieza_fabricante_1\", how=\"left\")\n",
    "segmentacion_ue['Cod_Actual_1'] = segmentacion_ue['Cod_Actual_1'].fillna(segmentacion_ue['SKU ERP'])"
   ]
  },
  {
   "cell_type": "code",
   "execution_count": 60,
   "metadata": {},
   "outputs": [],
   "source": [
    "segmentacion_ue = segmentacion_ue[['Cod_Actual_1','Total Segmentation']]"
   ]
  },
  {
   "cell_type": "code",
   "execution_count": 61,
   "metadata": {},
   "outputs": [],
   "source": [
    "segmentacion_ue =segmentacion_ue.sort_values(by='Total Segmentation')"
   ]
  },
  {
   "cell_type": "code",
   "execution_count": 62,
   "metadata": {},
   "outputs": [],
   "source": [
    "segmentacion_ue.drop_duplicates(subset='Cod_Actual_1',keep='first', inplace=True)"
   ]
  },
  {
   "cell_type": "code",
   "execution_count": 63,
   "metadata": {},
   "outputs": [],
   "source": [
    "\n",
    "df_nnss = df_nnss.merge(segmentacion_ue, left_on='Cod_Actual_1', right_on='Cod_Actual_1', how='left')\n",
    "df_nnss['Total Segmentation'] = df_nnss['Total Segmentation'].fillna('OO')\n",
    "\n"
   ]
  },
  {
   "cell_type": "code",
   "execution_count": 64,
   "metadata": {},
   "outputs": [],
   "source": [
    "flag_ipl = pd.read_excel(\"C:/Users/lravlic/Inchcape/Planificación y Compras Chile - Documentos/Planificación y Compras Maestros/2024/2024-11/2024-11 Base Flag IPL OEM.xlsx\", header=1, dtype={'Flag IPL': 'str'})\n",
    "estrategico = pd.read_excel(\"C:/Users/lravlic/Inchcape/Planificación y Compras Chile - Documentos/Planificación y Compras Maestros/2024/2024-11/Estratégicos Chile - Cierre Octubre 2024.xlsx\", sheet_name='Estratégico')"
   ]
  },
  {
   "cell_type": "code",
   "execution_count": 65,
   "metadata": {},
   "outputs": [],
   "source": [
    "flag_ipl = flag_ipl[['Último Eslabón R3','Flag IPL']]"
   ]
  },
  {
   "cell_type": "code",
   "execution_count": 66,
   "metadata": {},
   "outputs": [],
   "source": [
    "estrategico = estrategico[['Último Eslabón R3', 'Tipo']]"
   ]
  },
  {
   "cell_type": "code",
   "execution_count": 67,
   "metadata": {},
   "outputs": [],
   "source": [
    "\n",
    "flag_ipl_ue = pd.merge(flag_ipl, cadena_de_remplazo, left_on=\"Último Eslabón R3\", right_on=\"Nro_pieza_fabricante_1\", how=\"left\")\n",
    "flag_ipl_ue['Cod_Actual_1'] = flag_ipl_ue['Cod_Actual_1'].fillna(flag_ipl_ue['Último Eslabón R3'])"
   ]
  },
  {
   "cell_type": "code",
   "execution_count": 68,
   "metadata": {},
   "outputs": [],
   "source": [
    "flag_ipl_ue.drop(columns = {'Nro_pieza_fabricante_1','Último Eslabón R3'}, inplace=True)\n",
    "flag_ipl_ue.sort_values(by='Flag IPL', ascending=False, inplace=True)\n",
    "flag_ipl_ue.drop_duplicates(subset='Cod_Actual_1', keep='first', inplace=True)\n",
    "df_nnss = df_nnss.merge(flag_ipl_ue, left_on='Cod_Actual_1', right_on='Cod_Actual_1', how='left')\n",
    "df_nnss['Flag IPL'] = df_nnss['Flag IPL'].fillna(0)"
   ]
  },
  {
   "cell_type": "code",
   "execution_count": 69,
   "metadata": {},
   "outputs": [],
   "source": [
    "\n",
    "estrategico_ue = pd.merge(estrategico, cadena_de_remplazo, left_on=\"Último Eslabón R3\", right_on=\"Nro_pieza_fabricante_1\", how=\"left\")\n",
    "estrategico_ue['Cod_Actual_1'] = estrategico_ue['Cod_Actual_1'].fillna(estrategico_ue['Último Eslabón R3'])"
   ]
  },
  {
   "cell_type": "code",
   "execution_count": 70,
   "metadata": {},
   "outputs": [],
   "source": [
    "estrategico_ue.drop(columns = {'Nro_pieza_fabricante_1','Último Eslabón R3'}, inplace=True)\n",
    "estrategico_ue.drop_duplicates(subset='Cod_Actual_1', keep='first', inplace=True)\n",
    "df_nnss = df_nnss.merge(estrategico_ue, left_on='Cod_Actual_1', right_on='Cod_Actual_1', how='left')\n",
    "df_nnss['Tipo'] = df_nnss['Tipo'].fillna(0)"
   ]
  },
  {
   "cell_type": "code",
   "execution_count": 71,
   "metadata": {},
   "outputs": [],
   "source": [
    "df_nnss['Tipo'] = df_nnss['Tipo'].replace('Estrategico', 1)\n",
    "\n",
    "# Convert the 'Tipo' column to string type\n",
    "df_nnss['Tipo'] = df_nnss['Tipo'].astype(str)"
   ]
  },
  {
   "cell_type": "code",
   "execution_count": 72,
   "metadata": {},
   "outputs": [],
   "source": [
    "df_mara = df_mara[['Material_R3','Grupo_articulo']]"
   ]
  },
  {
   "cell_type": "code",
   "execution_count": 73,
   "metadata": {},
   "outputs": [],
   "source": [
    "df_mara_ue_2 = df_mara.merge(cadena_de_remplazo, left_on='Material_R3', right_on='Nro_pieza_fabricante_1', how='left')"
   ]
  },
  {
   "cell_type": "code",
   "execution_count": 74,
   "metadata": {},
   "outputs": [],
   "source": [
    "df_mara_ue_2 = df_mara_ue_2[['Cod_Actual_1','Grupo_articulo']]"
   ]
  },
  {
   "cell_type": "code",
   "execution_count": 75,
   "metadata": {},
   "outputs": [
    {
     "data": {
      "text/plain": [
       "Cod_Actual_1      object\n",
       "Grupo_articulo    object\n",
       "dtype: object"
      ]
     },
     "execution_count": 75,
     "metadata": {},
     "output_type": "execute_result"
    }
   ],
   "source": [
    "df_mara_ue_2.dtypes"
   ]
  },
  {
   "cell_type": "code",
   "execution_count": 76,
   "metadata": {},
   "outputs": [],
   "source": [
    "cabecera = 3\n",
    "hoja = 'Vigencias'\n",
    "gr_art= pd.read_excel(\"C:/Users/lravlic/Inchcape/Planificación y Compras Chile - Documentos/Planificación y Compras Maestros/2024/2024-11/Vigencia Grupo Articulo MU Q4_2023.xlsx\", header=cabecera,sheet_name = hoja)"
   ]
  },
  {
   "cell_type": "code",
   "execution_count": 77,
   "metadata": {},
   "outputs": [],
   "source": [
    "gr_art = gr_art[['Grupo articulo','Chile']]\n",
    "gr_art.rename(columns = {'Chile':'Apertura Parque'} , inplace=True)"
   ]
  },
  {
   "cell_type": "code",
   "execution_count": 78,
   "metadata": {},
   "outputs": [],
   "source": [
    "gr_art.drop_duplicates(subset='Grupo articulo', keep='first',inplace=True)"
   ]
  },
  {
   "cell_type": "code",
   "execution_count": 79,
   "metadata": {},
   "outputs": [
    {
     "data": {
      "text/plain": [
       "Cod_Actual_1      object\n",
       "Grupo_articulo    object\n",
       "dtype: object"
      ]
     },
     "execution_count": 79,
     "metadata": {},
     "output_type": "execute_result"
    }
   ],
   "source": [
    "df_mara_ue_2.dtypes"
   ]
  },
  {
   "cell_type": "code",
   "execution_count": 80,
   "metadata": {},
   "outputs": [],
   "source": [
    "df_mara_ue_vigencia = df_mara_ue_2.merge(gr_art, left_on='Grupo_articulo', right_on='Grupo articulo', how='left')"
   ]
  },
  {
   "cell_type": "code",
   "execution_count": 81,
   "metadata": {},
   "outputs": [],
   "source": [
    "df_mara_ue_vigencia['Apertura Parque'].fillna('0', inplace=True)"
   ]
  },
  {
   "cell_type": "code",
   "execution_count": 82,
   "metadata": {},
   "outputs": [],
   "source": [
    "df_mara_ue_vigencia = df_mara_ue_vigencia[df_mara_ue_vigencia['Apertura Parque'].isin(['No Vigente','Vigente','Nuevo'])]"
   ]
  },
  {
   "cell_type": "code",
   "execution_count": 83,
   "metadata": {},
   "outputs": [],
   "source": [
    "df_mara_ue_vigencia.drop(columns={'Grupo_articulo','Grupo articulo'}, inplace=True)"
   ]
  },
  {
   "cell_type": "code",
   "execution_count": 84,
   "metadata": {},
   "outputs": [],
   "source": [
    "df_mara_ue_vigencia['Parque'] = df_mara_ue_vigencia['Apertura Parque'].apply(lambda x: 0 if x == 'No Vigente' else 1)"
   ]
  },
  {
   "cell_type": "code",
   "execution_count": 85,
   "metadata": {},
   "outputs": [],
   "source": [
    "df_mara_ue_vigencia.dropna(subset='Cod_Actual_1', inplace=True)"
   ]
  },
  {
   "cell_type": "code",
   "execution_count": 86,
   "metadata": {},
   "outputs": [],
   "source": [
    "df_mara_ue_vigencia.sort_values(by='Parque', ascending=False, inplace=True)"
   ]
  },
  {
   "cell_type": "code",
   "execution_count": 87,
   "metadata": {},
   "outputs": [],
   "source": [
    "df_mara_ue_vigencia.drop_duplicates(subset='Cod_Actual_1', keep='first', inplace=True)"
   ]
  },
  {
   "cell_type": "code",
   "execution_count": 88,
   "metadata": {},
   "outputs": [],
   "source": [
    "df_nnss = df_nnss.merge(df_mara_ue_vigencia, left_on='Cod_Actual_1', right_on='Cod_Actual_1', how='left')"
   ]
  },
  {
   "cell_type": "code",
   "execution_count": 91,
   "metadata": {},
   "outputs": [],
   "source": [
    "df_nnss['Parque'] = df_nnss['Parque'].fillna(0).astype('int')"
   ]
  },
  {
   "cell_type": "code",
   "execution_count": 93,
   "metadata": {},
   "outputs": [],
   "source": [
    "df_nnss['Linea OK'] = df_nnss['Clase doc.ventas'].apply(lambda x: 1 if x=='ZRDP' else 0 )"
   ]
  },
  {
   "cell_type": "code",
   "execution_count": 94,
   "metadata": {},
   "outputs": [],
   "source": [
    "df_nnss['Linea VOR'] = 1 - df_nnss['Linea OK']"
   ]
  },
  {
   "cell_type": "code",
   "execution_count": 95,
   "metadata": {},
   "outputs": [],
   "source": [
    "df_nnss['Fecha documento'] = pd.to_datetime(df_nnss['Fecha documento'])"
   ]
  },
  {
   "cell_type": "code",
   "execution_count": 96,
   "metadata": {},
   "outputs": [],
   "source": [
    "df_nnss['Semana'] = df_nnss['Fecha documento'].dt.isocalendar().week\n",
    "df_nnss['Month'] = df_nnss['Fecha documento'].dt.month"
   ]
  },
  {
   "cell_type": "code",
   "execution_count": 97,
   "metadata": {},
   "outputs": [
    {
     "data": {
      "text/plain": [
       "0          Changan\n",
       "1          Changan\n",
       "2          Changan\n",
       "3          Renault\n",
       "4           Suzuki\n",
       "           ...    \n",
       "7948      JAC Cars\n",
       "7949    Great Wall\n",
       "7950        Suzuki\n",
       "7951        Suzuki\n",
       "7952        Suzuki\n",
       "Name: Nombre Sector, Length: 7953, dtype: object"
      ]
     },
     "execution_count": 97,
     "metadata": {},
     "output_type": "execute_result"
    }
   ],
   "source": [
    "df_nnss['Nombre Sector']"
   ]
  },
  {
   "cell_type": "code",
   "execution_count": 98,
   "metadata": {},
   "outputs": [],
   "source": [
    "df_nnss['Equipo'] = df_nnss['Nombre Sector'].apply(\n",
    "    lambda x: 'Mainstream 1' if x in [\"JAC Cars\", \"Changan\", \"Great Wall\"] else 'Mainstream 2'\n",
    ")\n"
   ]
  },
  {
   "cell_type": "code",
   "execution_count": 99,
   "metadata": {},
   "outputs": [
    {
     "name": "stderr",
     "output_type": "stream",
     "text": [
      "C:\\Users\\lravlic\\AppData\\Local\\Temp\\ipykernel_816\\4137973172.py:2: DtypeWarning: Columns (7,16,19,21,22,23,26,29,32,33,44) have mixed types. Specify dtype option on import or set low_memory=False.\n",
      "  evolutivo = pd.read_csv(\"C:/Users/lravlic/Inchcape/Planificación y Compras Chile - Documentos/Planificación y Compras KPI-Reportes/Nivel de Servicio OEM/automatizacion/consolidado sem 49.csv\")\n"
     ]
    }
   ],
   "source": [
    "# evolutivo = pd.read_excel(\"C:/Users/lravlic/Inchcape/Planificación y Compras Chile - Documentos/Planificación y Compras KPI-Reportes/Nivel de Servicio OEM/Niveles de Servicio - OEM/2024/NNSS_VERSIÓN FINAL; sem43_VF.xlsx\", sheet_name='BD')\n",
    "evolutivo = pd.read_csv(\"C:/Users/lravlic/Inchcape/Planificación y Compras Chile - Documentos/Planificación y Compras KPI-Reportes/Nivel de Servicio OEM/automatizacion/consolidado sem 49.csv\")"
   ]
  },
  {
   "cell_type": "code",
   "execution_count": 100,
   "metadata": {},
   "outputs": [
    {
     "data": {
      "text/html": [
       "<div>\n",
       "<style scoped>\n",
       "    .dataframe tbody tr th:only-of-type {\n",
       "        vertical-align: middle;\n",
       "    }\n",
       "\n",
       "    .dataframe tbody tr th {\n",
       "        vertical-align: top;\n",
       "    }\n",
       "\n",
       "    .dataframe thead th {\n",
       "        text-align: right;\n",
       "    }\n",
       "</style>\n",
       "<table border=\"1\" class=\"dataframe\">\n",
       "  <thead>\n",
       "    <tr style=\"text-align: right;\">\n",
       "      <th></th>\n",
       "      <th>Semana</th>\n",
       "      <th>count</th>\n",
       "    </tr>\n",
       "  </thead>\n",
       "  <tbody>\n",
       "    <tr>\n",
       "      <th>37</th>\n",
       "      <td>1</td>\n",
       "      <td>7506</td>\n",
       "    </tr>\n",
       "    <tr>\n",
       "      <th>1</th>\n",
       "      <td>2</td>\n",
       "      <td>11442</td>\n",
       "    </tr>\n",
       "    <tr>\n",
       "      <th>3</th>\n",
       "      <td>3</td>\n",
       "      <td>10165</td>\n",
       "    </tr>\n",
       "    <tr>\n",
       "      <th>5</th>\n",
       "      <td>4</td>\n",
       "      <td>10069</td>\n",
       "    </tr>\n",
       "    <tr>\n",
       "      <th>13</th>\n",
       "      <td>5</td>\n",
       "      <td>9283</td>\n",
       "    </tr>\n",
       "    <tr>\n",
       "      <th>8</th>\n",
       "      <td>6</td>\n",
       "      <td>9665</td>\n",
       "    </tr>\n",
       "    <tr>\n",
       "      <th>24</th>\n",
       "      <td>7</td>\n",
       "      <td>8945</td>\n",
       "    </tr>\n",
       "    <tr>\n",
       "      <th>19</th>\n",
       "      <td>8</td>\n",
       "      <td>9075</td>\n",
       "    </tr>\n",
       "    <tr>\n",
       "      <th>14</th>\n",
       "      <td>9</td>\n",
       "      <td>9267</td>\n",
       "    </tr>\n",
       "    <tr>\n",
       "      <th>11</th>\n",
       "      <td>10</td>\n",
       "      <td>9503</td>\n",
       "    </tr>\n",
       "    <tr>\n",
       "      <th>21</th>\n",
       "      <td>11</td>\n",
       "      <td>9013</td>\n",
       "    </tr>\n",
       "    <tr>\n",
       "      <th>20</th>\n",
       "      <td>12</td>\n",
       "      <td>9051</td>\n",
       "    </tr>\n",
       "    <tr>\n",
       "      <th>43</th>\n",
       "      <td>13</td>\n",
       "      <td>5978</td>\n",
       "    </tr>\n",
       "    <tr>\n",
       "      <th>6</th>\n",
       "      <td>14</td>\n",
       "      <td>9988</td>\n",
       "    </tr>\n",
       "    <tr>\n",
       "      <th>28</th>\n",
       "      <td>15</td>\n",
       "      <td>8702</td>\n",
       "    </tr>\n",
       "    <tr>\n",
       "      <th>17</th>\n",
       "      <td>16</td>\n",
       "      <td>9112</td>\n",
       "    </tr>\n",
       "    <tr>\n",
       "      <th>34</th>\n",
       "      <td>17</td>\n",
       "      <td>8380</td>\n",
       "    </tr>\n",
       "    <tr>\n",
       "      <th>38</th>\n",
       "      <td>18</td>\n",
       "      <td>7299</td>\n",
       "    </tr>\n",
       "    <tr>\n",
       "      <th>29</th>\n",
       "      <td>19</td>\n",
       "      <td>8680</td>\n",
       "    </tr>\n",
       "    <tr>\n",
       "      <th>15</th>\n",
       "      <td>20</td>\n",
       "      <td>9236</td>\n",
       "    </tr>\n",
       "    <tr>\n",
       "      <th>41</th>\n",
       "      <td>21</td>\n",
       "      <td>6986</td>\n",
       "    </tr>\n",
       "    <tr>\n",
       "      <th>35</th>\n",
       "      <td>22</td>\n",
       "      <td>8346</td>\n",
       "    </tr>\n",
       "    <tr>\n",
       "      <th>4</th>\n",
       "      <td>23</td>\n",
       "      <td>10151</td>\n",
       "    </tr>\n",
       "    <tr>\n",
       "      <th>22</th>\n",
       "      <td>24</td>\n",
       "      <td>9003</td>\n",
       "    </tr>\n",
       "    <tr>\n",
       "      <th>42</th>\n",
       "      <td>25</td>\n",
       "      <td>6351</td>\n",
       "    </tr>\n",
       "    <tr>\n",
       "      <th>36</th>\n",
       "      <td>26</td>\n",
       "      <td>8047</td>\n",
       "    </tr>\n",
       "    <tr>\n",
       "      <th>18</th>\n",
       "      <td>27</td>\n",
       "      <td>9087</td>\n",
       "    </tr>\n",
       "    <tr>\n",
       "      <th>10</th>\n",
       "      <td>28</td>\n",
       "      <td>9508</td>\n",
       "    </tr>\n",
       "    <tr>\n",
       "      <th>39</th>\n",
       "      <td>29</td>\n",
       "      <td>7271</td>\n",
       "    </tr>\n",
       "    <tr>\n",
       "      <th>23</th>\n",
       "      <td>30</td>\n",
       "      <td>8976</td>\n",
       "    </tr>\n",
       "    <tr>\n",
       "      <th>27</th>\n",
       "      <td>31</td>\n",
       "      <td>8718</td>\n",
       "    </tr>\n",
       "    <tr>\n",
       "      <th>30</th>\n",
       "      <td>32</td>\n",
       "      <td>8646</td>\n",
       "    </tr>\n",
       "    <tr>\n",
       "      <th>40</th>\n",
       "      <td>33</td>\n",
       "      <td>7264</td>\n",
       "    </tr>\n",
       "    <tr>\n",
       "      <th>0</th>\n",
       "      <td>34</td>\n",
       "      <td>11481</td>\n",
       "    </tr>\n",
       "    <tr>\n",
       "      <th>2</th>\n",
       "      <td>35</td>\n",
       "      <td>10220</td>\n",
       "    </tr>\n",
       "    <tr>\n",
       "      <th>45</th>\n",
       "      <td>36</td>\n",
       "      <td>4978</td>\n",
       "    </tr>\n",
       "    <tr>\n",
       "      <th>12</th>\n",
       "      <td>37</td>\n",
       "      <td>9302</td>\n",
       "    </tr>\n",
       "    <tr>\n",
       "      <th>47</th>\n",
       "      <td>38</td>\n",
       "      <td>2730</td>\n",
       "    </tr>\n",
       "    <tr>\n",
       "      <th>25</th>\n",
       "      <td>39</td>\n",
       "      <td>8766</td>\n",
       "    </tr>\n",
       "    <tr>\n",
       "      <th>26</th>\n",
       "      <td>40</td>\n",
       "      <td>8742</td>\n",
       "    </tr>\n",
       "    <tr>\n",
       "      <th>16</th>\n",
       "      <td>41</td>\n",
       "      <td>9170</td>\n",
       "    </tr>\n",
       "    <tr>\n",
       "      <th>44</th>\n",
       "      <td>42</td>\n",
       "      <td>5099</td>\n",
       "    </tr>\n",
       "    <tr>\n",
       "      <th>9</th>\n",
       "      <td>43</td>\n",
       "      <td>9622</td>\n",
       "    </tr>\n",
       "    <tr>\n",
       "      <th>46</th>\n",
       "      <td>44</td>\n",
       "      <td>4722</td>\n",
       "    </tr>\n",
       "    <tr>\n",
       "      <th>7</th>\n",
       "      <td>45</td>\n",
       "      <td>9724</td>\n",
       "    </tr>\n",
       "    <tr>\n",
       "      <th>33</th>\n",
       "      <td>46</td>\n",
       "      <td>8430</td>\n",
       "    </tr>\n",
       "    <tr>\n",
       "      <th>32</th>\n",
       "      <td>47</td>\n",
       "      <td>8496</td>\n",
       "    </tr>\n",
       "    <tr>\n",
       "      <th>31</th>\n",
       "      <td>48</td>\n",
       "      <td>8601</td>\n",
       "    </tr>\n",
       "  </tbody>\n",
       "</table>\n",
       "</div>"
      ],
      "text/plain": [
       "    Semana  count\n",
       "37       1   7506\n",
       "1        2  11442\n",
       "3        3  10165\n",
       "5        4  10069\n",
       "13       5   9283\n",
       "8        6   9665\n",
       "24       7   8945\n",
       "19       8   9075\n",
       "14       9   9267\n",
       "11      10   9503\n",
       "21      11   9013\n",
       "20      12   9051\n",
       "43      13   5978\n",
       "6       14   9988\n",
       "28      15   8702\n",
       "17      16   9112\n",
       "34      17   8380\n",
       "38      18   7299\n",
       "29      19   8680\n",
       "15      20   9236\n",
       "41      21   6986\n",
       "35      22   8346\n",
       "4       23  10151\n",
       "22      24   9003\n",
       "42      25   6351\n",
       "36      26   8047\n",
       "18      27   9087\n",
       "10      28   9508\n",
       "39      29   7271\n",
       "23      30   8976\n",
       "27      31   8718\n",
       "30      32   8646\n",
       "40      33   7264\n",
       "0       34  11481\n",
       "2       35  10220\n",
       "45      36   4978\n",
       "12      37   9302\n",
       "47      38   2730\n",
       "25      39   8766\n",
       "26      40   8742\n",
       "16      41   9170\n",
       "44      42   5099\n",
       "9       43   9622\n",
       "46      44   4722\n",
       "7       45   9724\n",
       "33      46   8430\n",
       "32      47   8496\n",
       "31      48   8601"
      ]
     },
     "execution_count": 100,
     "metadata": {},
     "output_type": "execute_result"
    }
   ],
   "source": [
    "evolutivo['Semana'].value_counts().reset_index().sort_values(by='Semana')"
   ]
  },
  {
   "cell_type": "code",
   "execution_count": 101,
   "metadata": {},
   "outputs": [],
   "source": [
    "df_nnss['Moneda'] = 'CLP'"
   ]
  },
  {
   "cell_type": "code",
   "execution_count": 102,
   "metadata": {},
   "outputs": [],
   "source": [
    "df_nnss['Material R3'] = df_nnss['Material']"
   ]
  },
  {
   "cell_type": "code",
   "execution_count": 103,
   "metadata": {},
   "outputs": [],
   "source": [
    "df_nnss['Nombre Sector Anterior2'] = \"\""
   ]
  },
  {
   "cell_type": "code",
   "execution_count": 104,
   "metadata": {},
   "outputs": [],
   "source": [
    "df_nnss['Clase R (actual)'] = \"\""
   ]
  },
  {
   "cell_type": "code",
   "execution_count": 105,
   "metadata": {},
   "outputs": [],
   "source": [
    "df_nnss['Segmentación N-5'] =\"\""
   ]
  },
  {
   "cell_type": "code",
   "execution_count": 106,
   "metadata": {},
   "outputs": [],
   "source": [
    "df_nnss['Planificable'] = df_nnss.apply(lambda row: \n",
    "    'Planificable' if (\n",
    "        row['Total Segmentation'] in [\"AA\", \"AB\", \"AC\", \"BA\", \"BB\", \"BC\", \"CA\", \"CB\", \"CC\"] or \n",
    "        (row['Tipo'] == 1 and row['Apertura Parque'] in [\"Vigente\", \"Nuevo\"])\n",
    "    ) else 'No Planificable', axis=1)"
   ]
  },
  {
   "cell_type": "code",
   "execution_count": 107,
   "metadata": {},
   "outputs": [
    {
     "data": {
      "text/plain": [
       "Index(['Documento comercial', 'Posición (SD)', 'Clase doc.ventas',\n",
       "       'Fecha documento', 'Nº pedido cliente', 'Solicitante',\n",
       "       'Cantidad de pedido', 'Material', 'Nombre 1', 'Unidad de medida',\n",
       "       'Valor neto', 'Sector', 'AUX', 'repetido', 'Cod_Actual_1',\n",
       "       'Nombre Sector', 'Material_dsc', 'Origen', 'Familia', 'Modelo',\n",
       "       'Plan_mantencion', 'Total Segmentation', 'Flag IPL', 'Tipo',\n",
       "       'Apertura Parque', 'Parque', 'Linea OK', 'Linea VOR', 'Semana', 'Month',\n",
       "       'Equipo', 'Moneda', 'Material R3', 'Nombre Sector Anterior2',\n",
       "       'Clase R (actual)', 'Segmentación N-5', 'Planificable'],\n",
       "      dtype='object')"
      ]
     },
     "execution_count": 107,
     "metadata": {},
     "output_type": "execute_result"
    }
   ],
   "source": [
    "df_nnss.columns"
   ]
  },
  {
   "cell_type": "code",
   "execution_count": 108,
   "metadata": {},
   "outputs": [],
   "source": [
    "df_nnss['Planificable N-5']=\"\""
   ]
  },
  {
   "cell_type": "code",
   "execution_count": 109,
   "metadata": {},
   "outputs": [],
   "source": [
    "df_nnss['Incidencia'] =\"\"\n",
    "df_nnss['Causa Raíz']=\"\"\n",
    "df_nnss['Línea Totales'] = 1\n",
    "df_nnss['Qty Venta'] = df_nnss.apply(lambda row: row['Cantidad de pedido'] if row['Clase doc.ventas'] in ['ZVTA', 'ZRDP'] else 0, axis=1) \n",
    "df_nnss['Qty VOR'] = df_nnss.apply(lambda row: row['Cantidad de pedido'] if row['Clase doc.ventas'] in ['ZVOR', 'ZVDP'] else 0, axis=1) \n",
    "df_nnss['Qty Total'] = df_nnss['Qty Venta'] + df_nnss['Qty VOR']\n",
    "\n",
    "df_nnss['Día'] = df_nnss['Fecha documento'].dt.day\n",
    "df_nnss['Año'] = df_nnss['Fecha documento'].dt.year\n"
   ]
  },
  {
   "cell_type": "code",
   "execution_count": 110,
   "metadata": {},
   "outputs": [],
   "source": [
    "df_nnss.rename(columns= {'Nº pedido cliente':'Referencia de cliente',\n",
    "                        #fecha documento,\n",
    "                        #clase documento venta,\n",
    "                        'Documento comercial':'Documento de ventas',\n",
    "                        'Posición (SD)':'Posición',\n",
    "                        #aux,\n",
    "                        #solicitante,\n",
    "                        'Nombre 1':'Nombre Solicitante',\n",
    "                        'Cantidad de pedido':'Cantidad de pedido (Posición)',\n",
    "                        'Unidad de medida':'Un.medida venta',\n",
    "                        'Valor neto':'Valor neto (posición)',\n",
    "                        'Moneda':'Moneda del documento',\n",
    "                        #Material,\n",
    "                        'Material_dsc':'Descripción del material',\n",
    "                        #MAterial_r3,\n",
    "                        'Cod_Actual_1':'UE R3',\n",
    "                        #nom_sec_anterior,\n",
    "                        'Nombre Sector':'Nombre sector',\n",
    "                        #origen,\n",
    "                        #modelo,\n",
    "                        #familia,\n",
    "                        #parque\n",
    "                        'Apertura Parque':'Apretura Parque',\n",
    "                        'Plan_mantencion': 'Plan Mantención',\n",
    "                        #clase r,\n",
    "                        'Total Segmentation':'Segmentación',\n",
    "                        'Tipo': 'Estratégicos',\n",
    "                        'Planificable':'Planificables',\n",
    "                        'Linea OK':'Línea OK',\n",
    "                        'Linea VOR':'Línea VOR',\n",
    "                        #Equipo,\n",
    "                        #Flag IPL,\n",
    "                        'Month':'Mes'}, inplace=True)"
   ]
  },
  {
   "cell_type": "code",
   "execution_count": 111,
   "metadata": {},
   "outputs": [],
   "source": [
    "df_nnss = df_nnss[['Referencia de cliente', 'Fecha documento', 'Clase doc.ventas',\n",
    "       'Documento de ventas', 'Posición', 'AUX', 'Solicitante',\n",
    "       'Nombre Solicitante', 'Cantidad de pedido (Posición)',\n",
    "       'Un.medida venta', 'Valor neto (posición)', 'Moneda del documento',\n",
    "       'Material', 'Descripción del material', 'Material R3', 'UE R3',\n",
    "       'Nombre Sector Anterior2', 'Nombre sector', 'Origen', 'Modelo',\n",
    "       'Familia', 'Parque', 'Apretura Parque', 'Plan Mantención',\n",
    "       'Clase R (actual)', 'Segmentación', 'Segmentación N-5', 'Estratégicos',\n",
    "       'Planificables', 'Planificable N-5', 'Equipo', 'Flag IPL', 'Incidencia',\n",
    "       'Causa Raíz', 'Línea OK', 'Línea VOR', 'Línea Totales', 'Qty Venta',\n",
    "       'Qty VOR', 'Qty Total', 'Semana', 'Día', 'Mes', 'Año']]"
   ]
  },
  {
   "cell_type": "code",
   "execution_count": 112,
   "metadata": {},
   "outputs": [],
   "source": [
    "evolutivo = evolutivo[['Referencia de cliente', 'Fecha documento', 'Clase doc.ventas',\n",
    "       'Documento de ventas', 'Posición', 'AUX', 'Solicitante',\n",
    "       'Nombre Solicitante', 'Cantidad de pedido (Posición)',\n",
    "       'Un.medida venta', 'Valor neto (posición)', 'Moneda del documento',\n",
    "       'Material', 'Descripción del material', 'Material R3', 'UE R3',\n",
    "       'Nombre Sector Anterior2', 'Nombre sector', 'Origen', 'Modelo',\n",
    "       'Familia', 'Parque', 'Apretura Parque', 'Plan Mantención',\n",
    "       'Clase R (actual)', 'Segmentación', 'Segmentación N-5', 'Estratégicos',\n",
    "       'Planificables', 'Planificable N-5', 'Equipo', 'Flag IPL', 'Incidencia',\n",
    "       'Causa Raíz', 'Línea OK', 'Línea VOR', 'Línea Totales', 'Qty Venta',\n",
    "       'Qty VOR', 'Qty Total', 'Semana', 'Día', 'Mes', 'Año']]"
   ]
  },
  {
   "cell_type": "code",
   "execution_count": 113,
   "metadata": {},
   "outputs": [],
   "source": [
    "evolutivo['Fecha documento'] = pd.to_datetime(evolutivo['Fecha documento'])"
   ]
  },
  {
   "cell_type": "code",
   "execution_count": 115,
   "metadata": {},
   "outputs": [
    {
     "name": "stderr",
     "output_type": "stream",
     "text": [
      "C:\\Users\\lravlic\\AppData\\Local\\Temp\\ipykernel_816\\3108972732.py:1: SettingWithCopyWarning: \n",
      "A value is trying to be set on a copy of a slice from a DataFrame\n",
      "\n",
      "See the caveats in the documentation: https://pandas.pydata.org/pandas-docs/stable/user_guide/indexing.html#returning-a-view-versus-a-copy\n",
      "  df_nnss.drop(columns={'Moneda del documento'}, inplace=True)\n"
     ]
    }
   ],
   "source": [
    "df_nnss.drop(columns={'Moneda del documento'}, inplace=True)"
   ]
  },
  {
   "cell_type": "code",
   "execution_count": 114,
   "metadata": {},
   "outputs": [],
   "source": [
    "df_final = pd.concat([df_nnss, evolutivo])"
   ]
  },
  {
   "cell_type": "code",
   "execution_count": 115,
   "metadata": {},
   "outputs": [
    {
     "data": {
      "text/plain": [
       "Semana\n",
       "49     7938\n",
       "48     8601\n",
       "47     8496\n",
       "46     8430\n",
       "45     9724\n",
       "44     4722\n",
       "43     9622\n",
       "42     5099\n",
       "41     9170\n",
       "40     8742\n",
       "39     8766\n",
       "38     2730\n",
       "37     9302\n",
       "36     4978\n",
       "35    10220\n",
       "34    11481\n",
       "33     7264\n",
       "32     8646\n",
       "31     8718\n",
       "30     8976\n",
       "29     7271\n",
       "28     9508\n",
       "27     9087\n",
       "26     8047\n",
       "25     6351\n",
       "24     9003\n",
       "23    10151\n",
       "22     8346\n",
       "21     6986\n",
       "20     9236\n",
       "19     8680\n",
       "18     7299\n",
       "17     8380\n",
       "16     9112\n",
       "15     8702\n",
       "14     9988\n",
       "13     5978\n",
       "12     9051\n",
       "11     9013\n",
       "10     9503\n",
       "9      9267\n",
       "8      9075\n",
       "7      8945\n",
       "6      9665\n",
       "5      9283\n",
       "4     10069\n",
       "3     10165\n",
       "2     11442\n",
       "1      7506\n",
       "Name: count, dtype: Int64"
      ]
     },
     "execution_count": 115,
     "metadata": {},
     "output_type": "execute_result"
    }
   ],
   "source": [
    "df_final['Semana'].value_counts().sort_index(ascending=False)"
   ]
  },
  {
   "cell_type": "code",
   "execution_count": 116,
   "metadata": {},
   "outputs": [],
   "source": [
    "df_final['Fecha documento'] = pd.to_datetime(df_final['Fecha documento'], errors='coerce')\n"
   ]
  },
  {
   "cell_type": "code",
   "execution_count": 117,
   "metadata": {},
   "outputs": [],
   "source": [
    "df_final.to_csv('consolidado sem 50.csv')\n"
   ]
  },
  {
   "cell_type": "code",
   "execution_count": null,
   "metadata": {},
   "outputs": [],
   "source": []
  }
 ],
 "metadata": {
  "kernelspec": {
   "display_name": "Python 3",
   "language": "python",
   "name": "python3"
  },
  "language_info": {
   "codemirror_mode": {
    "name": "ipython",
    "version": 3
   },
   "file_extension": ".py",
   "mimetype": "text/x-python",
   "name": "python",
   "nbconvert_exporter": "python",
   "pygments_lexer": "ipython3",
   "version": "3.12.0"
  }
 },
 "nbformat": 4,
 "nbformat_minor": 2
}
