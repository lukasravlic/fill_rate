{
 "cells": [
  {
   "cell_type": "code",
   "execution_count": 81,
   "metadata": {},
   "outputs": [],
   "source": [
    "import pandas as pd"
   ]
  },
  {
   "cell_type": "code",
   "execution_count": 82,
   "metadata": {},
   "outputs": [],
   "source": [
    "inchcape = pd.read_excel(\"Pedidos FR Semana 48.xlsx\",sheet_name= 'Pedidos FR Noviembre',dtype={'Ce.':'str', 'Material':'str'})"
   ]
  },
  {
   "cell_type": "code",
   "execution_count": 84,
   "metadata": {},
   "outputs": [],
   "source": [
    "columns = [\n",
    "    \"Ce.\", \"ClVt\", \"Fecha doc-\",\"Pedido\",\"Material\", \"NPF\", \"Denominación\", \"Ctd.ped..1\"\n",
    "]\n",
    "inchcape = inchcape[columns]"
   ]
  },
  {
   "cell_type": "code",
   "execution_count": 4,
   "metadata": {},
   "outputs": [],
   "source": [
    "maestro = pd.read_excel(\"Pedidos FR Semana 49.xlsx\",sheet_name= 'Maestro 2.0', header=1, dtype={'Último Eslabón y Material SAP':'str'})"
   ]
  },
  {
   "cell_type": "code",
   "execution_count": 5,
   "metadata": {},
   "outputs": [],
   "source": [
    "maestro = maestro[['Último Eslabón y Material SAP','Familia','Segmentación ','Modelo']]"
   ]
  },
  {
   "cell_type": "code",
   "execution_count": 9,
   "metadata": {},
   "outputs": [],
   "source": [
    "maestro.drop_duplicates(subset='Último Eslabón y Material SAP', inplace=True)"
   ]
  },
  {
   "cell_type": "code",
   "execution_count": 85,
   "metadata": {},
   "outputs": [],
   "source": [
    "inchcape = inchcape.merge(maestro, left_on='Material', right_on='Último Eslabón y Material SAP', how='left')"
   ]
  },
  {
   "cell_type": "code",
   "execution_count": 86,
   "metadata": {},
   "outputs": [
    {
     "data": {
      "text/plain": [
       "Index(['Ce.', 'ClVt', 'Fecha doc-', 'Pedido', 'Material', 'NPF',\n",
       "       'Denominación', 'Ctd.ped..1', 'Último Eslabón y Material SAP',\n",
       "       'Familia', 'Segmentación ', 'Modelo'],\n",
       "      dtype='object')"
      ]
     },
     "execution_count": 86,
     "metadata": {},
     "output_type": "execute_result"
    }
   ],
   "source": [
    "inchcape.columns"
   ]
  },
  {
   "cell_type": "code",
   "execution_count": 87,
   "metadata": {},
   "outputs": [],
   "source": [
    "inchcape.drop(columns={'Último Eslabón y Material SAP'}, inplace=True)"
   ]
  },
  {
   "cell_type": "code",
   "execution_count": 88,
   "metadata": {},
   "outputs": [],
   "source": [
    "#Marca\n",
    "mappings = {\n",
    "    '1335': \"Subaru\",\n",
    "    '1305': \"DFSK\",\n",
    "    '1344': \"Geely\"\n",
    "}\n",
    "\n",
    "# Apply the mapping to create the 'Marca' column\n",
    "inchcape['Marca'] = inchcape['Ce.'].map(mappings).fillna(0)\n"
   ]
  },
  {
   "cell_type": "code",
   "execution_count": 89,
   "metadata": {},
   "outputs": [],
   "source": [
    "inchcape['Líneas OK'] = inchcape['ClVt'].apply(lambda x: 1 if x == \"Z300\" else 0)\n",
    "inchcape['Líneas VOR'] = inchcape['ClVt'].apply(lambda x: 1 if x == \"ZVOR\" else 0)\n"
   ]
  },
  {
   "cell_type": "code",
   "execution_count": 90,
   "metadata": {},
   "outputs": [],
   "source": [
    "inchcape['Líneas Totales'] = inchcape['Líneas VOR']+inchcape['Líneas OK'] "
   ]
  },
  {
   "cell_type": "code",
   "execution_count": 91,
   "metadata": {},
   "outputs": [],
   "source": [
    "inchcape['Qty OK'] = inchcape['Líneas OK'] * inchcape['Ctd.ped..1']"
   ]
  },
  {
   "cell_type": "code",
   "execution_count": 92,
   "metadata": {},
   "outputs": [],
   "source": [
    "inchcape['Qty VOR'] = inchcape['Líneas VOR'] * inchcape['Ctd.ped..1']"
   ]
  },
  {
   "cell_type": "markdown",
   "metadata": {},
   "source": [
    "marca\n",
    "vor\n",
    "li ok\n",
    "li vor\n",
    "li totales\n",
    "qty\n",
    "qty\n",
    "qty\n",
    "segmentacion (maestro)\n",
    "modelo (maestro)\n",
    "familia (maestro)\n"
   ]
  },
  {
   "cell_type": "code",
   "execution_count": 93,
   "metadata": {},
   "outputs": [],
   "source": [
    "inchcape['Qty VOR'] = inchcape['Líneas VOR'] * inchcape['Ctd.ped..1']"
   ]
  },
  {
   "cell_type": "code",
   "execution_count": 94,
   "metadata": {},
   "outputs": [
    {
     "data": {
      "text/html": [
       "<div>\n",
       "<style scoped>\n",
       "    .dataframe tbody tr th:only-of-type {\n",
       "        vertical-align: middle;\n",
       "    }\n",
       "\n",
       "    .dataframe tbody tr th {\n",
       "        vertical-align: top;\n",
       "    }\n",
       "\n",
       "    .dataframe thead th {\n",
       "        text-align: right;\n",
       "    }\n",
       "</style>\n",
       "<table border=\"1\" class=\"dataframe\">\n",
       "  <thead>\n",
       "    <tr style=\"text-align: right;\">\n",
       "      <th></th>\n",
       "      <th>Líneas OK</th>\n",
       "      <th>Líneas VOR</th>\n",
       "      <th>Líneas Totales</th>\n",
       "    </tr>\n",
       "    <tr>\n",
       "      <th>Marca</th>\n",
       "      <th></th>\n",
       "      <th></th>\n",
       "      <th></th>\n",
       "    </tr>\n",
       "  </thead>\n",
       "  <tbody>\n",
       "    <tr>\n",
       "      <th>0</th>\n",
       "      <td>0</td>\n",
       "      <td>0</td>\n",
       "      <td>0</td>\n",
       "    </tr>\n",
       "    <tr>\n",
       "      <th>DFSK</th>\n",
       "      <td>162</td>\n",
       "      <td>12</td>\n",
       "      <td>174</td>\n",
       "    </tr>\n",
       "    <tr>\n",
       "      <th>Geely</th>\n",
       "      <td>81</td>\n",
       "      <td>8</td>\n",
       "      <td>89</td>\n",
       "    </tr>\n",
       "    <tr>\n",
       "      <th>Subaru</th>\n",
       "      <td>1247</td>\n",
       "      <td>105</td>\n",
       "      <td>1352</td>\n",
       "    </tr>\n",
       "  </tbody>\n",
       "</table>\n",
       "</div>"
      ],
      "text/plain": [
       "        Líneas OK  Líneas VOR  Líneas Totales\n",
       "Marca                                        \n",
       "0               0           0               0\n",
       "DFSK          162          12             174\n",
       "Geely          81           8              89\n",
       "Subaru       1247         105            1352"
      ]
     },
     "execution_count": 94,
     "metadata": {},
     "output_type": "execute_result"
    }
   ],
   "source": [
    "inchcape.groupby('Marca').agg({'Líneas OK':'sum',\n",
    "                               'Líneas VOR':'sum',\n",
    "                               'Líneas Totales':'sum'})"
   ]
  },
  {
   "cell_type": "code",
   "execution_count": null,
   "metadata": {},
   "outputs": [],
   "source": [
    "nnss =pd.read_csv('consolidado_legacies.csv')"
   ]
  },
  {
   "cell_type": "code",
   "execution_count": 95,
   "metadata": {},
   "outputs": [],
   "source": [
    "meses = {\n",
    "    \"ene\": 1,\n",
    "    \"feb\": 2,\n",
    "    \"mar\": 3,\n",
    "    \"abr\": 4,\n",
    "    \"may\": 5,\n",
    "    \"jun\": 6,\n",
    "    \"jul\": 7,\n",
    "    \"ago\": 8,\n",
    "    \"sep\": 9,\n",
    "    \"oct\": 10,\n",
    "    \"nov\": 11,\n",
    "    \"dic\": 12\n",
    "}\n",
    "\n",
    "# Cambiar valores de la columna 'Mes' usando el diccionario\n",
    "inchcape['Mes'] = inchcape['Fecha doc-'].dt.month\n",
    "inchcape['Semana'] =   inchcape['Fecha doc-'].dt.isocalendar().week\n"
   ]
  },
  {
   "cell_type": "code",
   "execution_count": 96,
   "metadata": {},
   "outputs": [
    {
     "data": {
      "text/plain": [
       "Index(['Ce.', 'ClVt', 'Fecha doc-', 'Pedido', 'Material', 'NPF',\n",
       "       'Denominación', 'Ctd.ped..1', 'Familia', 'Segmentación ', 'Modelo',\n",
       "       'Marca', 'Líneas OK', 'Líneas VOR', 'Líneas Totales', 'Qty OK',\n",
       "       'Qty VOR', 'Mes', 'Semana'],\n",
       "      dtype='object')"
      ]
     },
     "execution_count": 96,
     "metadata": {},
     "output_type": "execute_result"
    }
   ],
   "source": [
    "inchcape.columns"
   ]
  },
  {
   "cell_type": "code",
   "execution_count": 97,
   "metadata": {},
   "outputs": [],
   "source": [
    "# nnss['Centro'] = ''\n",
    "# nnss['NPF'] = \"\"\n",
    "# nnss['VOR'] = \"\"\n",
    "# nnss['Considerar'] = \"\"\n",
    "\n",
    "inchcape.rename(columns= {'Ce.':'Centro','ClVt':'Clase doc.ventas','Pedido':'Documento de ventas','Denominación':'Descripción del material','Ctd.ped..1':'Cantidad de pedido (Posición)','Marca':'Nombre sector','Líneas OK':'Línea OK', 'Líneas VOR':'Línea VOR', 'Líneas Totales':'Línea Totales','Qty OK':'Qty Venta' ,'Qty Totales':'Qty Total','Fecha doc-':'Fecha documento', 'Inventario':'Planificables'}, inplace=True)\n",
    "\n",
    "\n"
   ]
  },
  {
   "cell_type": "code",
   "execution_count": null,
   "metadata": {},
   "outputs": [],
   "source": [
    "inchcape_consolidado = nnss[nnss['Nombre sector'].isin(['Subaru','DFSK', 'Geely'])]"
   ]
  },
  {
   "cell_type": "code",
   "execution_count": 98,
   "metadata": {},
   "outputs": [],
   "source": [
    "inchcape_consolidado = pd.read_csv('consolidado_final.csv')"
   ]
  },
  {
   "cell_type": "code",
   "execution_count": 99,
   "metadata": {},
   "outputs": [
    {
     "data": {
      "text/plain": [
       "Semana\n",
       "48    3579\n",
       "Name: count, dtype: Int64"
      ]
     },
     "execution_count": 99,
     "metadata": {},
     "output_type": "execute_result"
    }
   ],
   "source": [
    "inchcape.Semana.value_counts()"
   ]
  },
  {
   "cell_type": "code",
   "execution_count": 100,
   "metadata": {},
   "outputs": [
    {
     "data": {
      "text/plain": [
       "Semana\n",
       "49.0    3000\n",
       "47.0    2224\n",
       "46.0    2175\n",
       "Name: count, dtype: int64"
      ]
     },
     "execution_count": 100,
     "metadata": {},
     "output_type": "execute_result"
    }
   ],
   "source": [
    "inchcape_consolidado['Semana'].value_counts()"
   ]
  },
  {
   "cell_type": "code",
   "execution_count": 69,
   "metadata": {},
   "outputs": [],
   "source": [
    "inchcape_consolidado = inchcape_consolidado[inchcape_consolidado['Semana'] != 49.0]"
   ]
  },
  {
   "cell_type": "code",
   "execution_count": 72,
   "metadata": {},
   "outputs": [
    {
     "data": {
      "text/plain": [
       "Semana\n",
       "49.0    3000\n",
       "47.0    2224\n",
       "46.0    2175\n",
       "Name: count, dtype: Int64"
      ]
     },
     "execution_count": 72,
     "metadata": {},
     "output_type": "execute_result"
    }
   ],
   "source": [
    "inchcape_consolidado_final['Semana'].value_counts()"
   ]
  },
  {
   "cell_type": "code",
   "execution_count": null,
   "metadata": {},
   "outputs": [],
   "source": []
  },
  {
   "cell_type": "code",
   "execution_count": 101,
   "metadata": {},
   "outputs": [],
   "source": [
    "inchcape_consolidado_final = pd.concat([inchcape, inchcape_consolidado])"
   ]
  },
  {
   "cell_type": "code",
   "execution_count": 102,
   "metadata": {},
   "outputs": [],
   "source": [
    "inchcape_consolidado_final.to_csv('consolidado_final.csv')"
   ]
  },
  {
   "cell_type": "code",
   "execution_count": 103,
   "metadata": {},
   "outputs": [
    {
     "name": "stderr",
     "output_type": "stream",
     "text": [
      "C:\\Users\\lravlic\\AppData\\Local\\Temp\\ipykernel_30876\\1126841125.py:1: DtypeWarning: Columns (7,16,21,23,26,29,32,33,44) have mixed types. Specify dtype option on import or set low_memory=False.\n",
      "  derco_consolidado = pd.read_csv(\"consolidado sem 50.csv\")\n"
     ]
    }
   ],
   "source": [
    "derco_consolidado = pd.read_csv(\"consolidado sem 50.csv\")"
   ]
  },
  {
   "cell_type": "code",
   "execution_count": 75,
   "metadata": {},
   "outputs": [
    {
     "data": {
      "text/plain": [
       "Index(['Unnamed: 0', 'Referencia de cliente', 'Fecha documento',\n",
       "       'Clase doc.ventas', 'Documento de ventas', 'Posición', 'AUX',\n",
       "       'Solicitante', 'Nombre Solicitante', 'Cantidad de pedido (Posición)',\n",
       "       'Un.medida venta', 'Valor neto (posición)', 'Material',\n",
       "       'Descripción del material', 'Material R3', 'UE R3',\n",
       "       'Nombre Sector Anterior2', 'Nombre sector', 'Origen', 'Modelo',\n",
       "       'Familia', 'Parque', 'Apretura Parque', 'Plan Mantención',\n",
       "       'Clase R (actual)', 'Segmentación', 'Segmentación N-5', 'Estratégicos',\n",
       "       'Planificables', 'Planificable N-5', 'Equipo', 'Flag IPL', 'Incidencia',\n",
       "       'Causa Raíz', 'Línea OK', 'Línea VOR', 'Línea Totales', 'Qty Venta',\n",
       "       'Qty VOR', 'Qty Total', 'Semana', 'Día', 'Mes', 'Año',\n",
       "       'Moneda del documento'],\n",
       "      dtype='object')"
      ]
     },
     "execution_count": 75,
     "metadata": {},
     "output_type": "execute_result"
    }
   ],
   "source": [
    "derco_consolidado.columns"
   ]
  },
  {
   "cell_type": "code",
   "execution_count": 104,
   "metadata": {},
   "outputs": [
    {
     "data": {
      "text/plain": [
       "Semana\n",
       "48.0    3579\n",
       "49.0    3000\n",
       "47.0    2224\n",
       "46.0    2175\n",
       "Name: count, dtype: Int64"
      ]
     },
     "execution_count": 104,
     "metadata": {},
     "output_type": "execute_result"
    }
   ],
   "source": [
    "inchcape_consolidado_final.Semana.value_counts()"
   ]
  },
  {
   "cell_type": "code",
   "execution_count": 105,
   "metadata": {},
   "outputs": [],
   "source": [
    "consolidado_final = pd.concat([derco_consolidado, inchcape_consolidado])"
   ]
  },
  {
   "cell_type": "code",
   "execution_count": 106,
   "metadata": {},
   "outputs": [],
   "source": [
    "consolidado_final = consolidado_final.loc[:, ~consolidado_final.columns.str.contains('^Unnamed')]\n"
   ]
  },
  {
   "cell_type": "code",
   "execution_count": null,
   "metadata": {},
   "outputs": [
    {
     "data": {
      "text/html": [
       "<div>\n",
       "<style scoped>\n",
       "    .dataframe tbody tr th:only-of-type {\n",
       "        vertical-align: middle;\n",
       "    }\n",
       "\n",
       "    .dataframe tbody tr th {\n",
       "        vertical-align: top;\n",
       "    }\n",
       "\n",
       "    .dataframe thead th {\n",
       "        text-align: right;\n",
       "    }\n",
       "</style>\n",
       "<table border=\"1\" class=\"dataframe\">\n",
       "  <thead>\n",
       "    <tr style=\"text-align: right;\">\n",
       "      <th></th>\n",
       "      <th>Referencia de cliente</th>\n",
       "      <th>Fecha documento</th>\n",
       "      <th>Clase doc.ventas</th>\n",
       "      <th>Documento de ventas</th>\n",
       "      <th>Posición</th>\n",
       "      <th>AUX</th>\n",
       "      <th>Solicitante</th>\n",
       "      <th>Nombre Solicitante</th>\n",
       "      <th>Cantidad de pedido (Posición)</th>\n",
       "      <th>Un.medida venta</th>\n",
       "      <th>...</th>\n",
       "      <th>Día</th>\n",
       "      <th>Mes</th>\n",
       "      <th>Año</th>\n",
       "      <th>Moneda del documento</th>\n",
       "      <th>Centro</th>\n",
       "      <th>NPF</th>\n",
       "      <th>Segmentación</th>\n",
       "      <th>Inventario</th>\n",
       "      <th>VOR</th>\n",
       "      <th>Considerar</th>\n",
       "    </tr>\n",
       "  </thead>\n",
       "  <tbody>\n",
       "    <tr>\n",
       "      <th>0</th>\n",
       "      <td>VALPO RPTO SM</td>\n",
       "      <td>2024-12-05</td>\n",
       "      <td>ZRDP</td>\n",
       "      <td>6370530</td>\n",
       "      <td>10.0</td>\n",
       "      <td>637053010.0</td>\n",
       "      <td>286808</td>\n",
       "      <td>DISTRIBUIDORA DE VEHICULOS SUZUVAL</td>\n",
       "      <td>1</td>\n",
       "      <td>UN</td>\n",
       "      <td>...</td>\n",
       "      <td>5.0</td>\n",
       "      <td>12.0</td>\n",
       "      <td>2024.0</td>\n",
       "      <td>NaN</td>\n",
       "      <td>NaN</td>\n",
       "      <td>NaN</td>\n",
       "      <td>NaN</td>\n",
       "      <td>NaN</td>\n",
       "      <td>NaN</td>\n",
       "      <td>NaN</td>\n",
       "    </tr>\n",
       "    <tr>\n",
       "      <th>1</th>\n",
       "      <td>VALPO RPTO SM</td>\n",
       "      <td>2024-12-05</td>\n",
       "      <td>ZRDP</td>\n",
       "      <td>6370530</td>\n",
       "      <td>20.0</td>\n",
       "      <td>637053020.0</td>\n",
       "      <td>286808</td>\n",
       "      <td>DISTRIBUIDORA DE VEHICULOS SUZUVAL</td>\n",
       "      <td>1</td>\n",
       "      <td>UN</td>\n",
       "      <td>...</td>\n",
       "      <td>5.0</td>\n",
       "      <td>12.0</td>\n",
       "      <td>2024.0</td>\n",
       "      <td>NaN</td>\n",
       "      <td>NaN</td>\n",
       "      <td>NaN</td>\n",
       "      <td>NaN</td>\n",
       "      <td>NaN</td>\n",
       "      <td>NaN</td>\n",
       "      <td>NaN</td>\n",
       "    </tr>\n",
       "    <tr>\n",
       "      <th>2</th>\n",
       "      <td>VALPO RPTO SM</td>\n",
       "      <td>2024-12-05</td>\n",
       "      <td>ZRDP</td>\n",
       "      <td>6370530</td>\n",
       "      <td>30.0</td>\n",
       "      <td>637053030.0</td>\n",
       "      <td>286808</td>\n",
       "      <td>DISTRIBUIDORA DE VEHICULOS SUZUVAL</td>\n",
       "      <td>1</td>\n",
       "      <td>UN</td>\n",
       "      <td>...</td>\n",
       "      <td>5.0</td>\n",
       "      <td>12.0</td>\n",
       "      <td>2024.0</td>\n",
       "      <td>NaN</td>\n",
       "      <td>NaN</td>\n",
       "      <td>NaN</td>\n",
       "      <td>NaN</td>\n",
       "      <td>NaN</td>\n",
       "      <td>NaN</td>\n",
       "      <td>NaN</td>\n",
       "    </tr>\n",
       "    <tr>\n",
       "      <th>3</th>\n",
       "      <td>bobinas oroc</td>\n",
       "      <td>2024-12-02</td>\n",
       "      <td>ZRDP</td>\n",
       "      <td>6390408</td>\n",
       "      <td>10.0</td>\n",
       "      <td>639040810.0</td>\n",
       "      <td>186</td>\n",
       "      <td>GUSTAVO SAAVEDRA Y CIA. LTDA.</td>\n",
       "      <td>2</td>\n",
       "      <td>UN</td>\n",
       "      <td>...</td>\n",
       "      <td>2.0</td>\n",
       "      <td>12.0</td>\n",
       "      <td>2024.0</td>\n",
       "      <td>NaN</td>\n",
       "      <td>NaN</td>\n",
       "      <td>NaN</td>\n",
       "      <td>NaN</td>\n",
       "      <td>NaN</td>\n",
       "      <td>NaN</td>\n",
       "      <td>NaN</td>\n",
       "    </tr>\n",
       "    <tr>\n",
       "      <th>4</th>\n",
       "      <td>SSTT SWIFT RODAMIE</td>\n",
       "      <td>2024-12-02</td>\n",
       "      <td>ZRDP</td>\n",
       "      <td>6390409</td>\n",
       "      <td>10.0</td>\n",
       "      <td>639040910.0</td>\n",
       "      <td>523079</td>\n",
       "      <td>COMERCIAL ERRAZURIZ SPA</td>\n",
       "      <td>2</td>\n",
       "      <td>UN</td>\n",
       "      <td>...</td>\n",
       "      <td>2.0</td>\n",
       "      <td>12.0</td>\n",
       "      <td>2024.0</td>\n",
       "      <td>NaN</td>\n",
       "      <td>NaN</td>\n",
       "      <td>NaN</td>\n",
       "      <td>NaN</td>\n",
       "      <td>NaN</td>\n",
       "      <td>NaN</td>\n",
       "      <td>NaN</td>\n",
       "    </tr>\n",
       "  </tbody>\n",
       "</table>\n",
       "<p>5 rows × 50 columns</p>\n",
       "</div>"
      ],
      "text/plain": [
       "  Referencia de cliente Fecha documento Clase doc.ventas Documento de ventas  \\\n",
       "0         VALPO RPTO SM      2024-12-05             ZRDP             6370530   \n",
       "1         VALPO RPTO SM      2024-12-05             ZRDP             6370530   \n",
       "2         VALPO RPTO SM      2024-12-05             ZRDP             6370530   \n",
       "3          bobinas oroc      2024-12-02             ZRDP             6390408   \n",
       "4    SSTT SWIFT RODAMIE      2024-12-02             ZRDP             6390409   \n",
       "\n",
       "   Posición          AUX Solicitante                  Nombre Solicitante  \\\n",
       "0      10.0  637053010.0      286808  DISTRIBUIDORA DE VEHICULOS SUZUVAL   \n",
       "1      20.0  637053020.0      286808  DISTRIBUIDORA DE VEHICULOS SUZUVAL   \n",
       "2      30.0  637053030.0      286808  DISTRIBUIDORA DE VEHICULOS SUZUVAL   \n",
       "3      10.0  639040810.0         186       GUSTAVO SAAVEDRA Y CIA. LTDA.   \n",
       "4      10.0  639040910.0      523079             COMERCIAL ERRAZURIZ SPA   \n",
       "\n",
       "   Cantidad de pedido (Posición) Un.medida venta  ...  Día   Mes     Año  \\\n",
       "0                              1              UN  ...  5.0  12.0  2024.0   \n",
       "1                              1              UN  ...  5.0  12.0  2024.0   \n",
       "2                              1              UN  ...  5.0  12.0  2024.0   \n",
       "3                              2              UN  ...  2.0  12.0  2024.0   \n",
       "4                              2              UN  ...  2.0  12.0  2024.0   \n",
       "\n",
       "  Moneda del documento Centro  NPF Segmentación  Inventario VOR Considerar  \n",
       "0                  NaN    NaN  NaN           NaN        NaN NaN        NaN  \n",
       "1                  NaN    NaN  NaN           NaN        NaN NaN        NaN  \n",
       "2                  NaN    NaN  NaN           NaN        NaN NaN        NaN  \n",
       "3                  NaN    NaN  NaN           NaN        NaN NaN        NaN  \n",
       "4                  NaN    NaN  NaN           NaN        NaN NaN        NaN  \n",
       "\n",
       "[5 rows x 50 columns]"
      ]
     },
     "execution_count": 107,
     "metadata": {},
     "output_type": "execute_result"
    }
   ],
   "source": [
    "consolidado_final.head()"
   ]
  },
  {
   "cell_type": "code",
   "execution_count": 108,
   "metadata": {},
   "outputs": [],
   "source": [
    "consolidado_final.to_csv('consolidado_legacies_2.csv')"
   ]
  },
  {
   "cell_type": "code",
   "execution_count": null,
   "metadata": {},
   "outputs": [],
   "source": [
    "consolidado_final.to_excel('consolidado_legacies_2.xlsx')"
   ]
  },
  {
   "cell_type": "code",
   "execution_count": null,
   "metadata": {},
   "outputs": [],
   "source": [
    "consolidado_final.columns"
   ]
  },
  {
   "cell_type": "code",
   "execution_count": null,
   "metadata": {},
   "outputs": [],
   "source": [
    "consolidado = pd.concat([nnss,inchcape])"
   ]
  },
  {
   "cell_type": "code",
   "execution_count": null,
   "metadata": {},
   "outputs": [],
   "source": [
    "nnss['Centro'] = ''\n"
   ]
  },
  {
   "cell_type": "code",
   "execution_count": null,
   "metadata": {},
   "outputs": [],
   "source": [
    "consolidado = consolidado.dropna(subset=['Semana'])\n",
    "consolidado['Semana'] = consolidado['Semana'].astype(int)\n",
    "\n"
   ]
  },
  {
   "cell_type": "code",
   "execution_count": null,
   "metadata": {},
   "outputs": [],
   "source": [
    "consolidado.to_csv('consolidado_legacies.csv')"
   ]
  },
  {
   "cell_type": "code",
   "execution_count": null,
   "metadata": {},
   "outputs": [],
   "source": []
  },
  {
   "cell_type": "code",
   "execution_count": null,
   "metadata": {},
   "outputs": [],
   "source": [
    "final = pd.read_csv('consolidado_legacies.csv')"
   ]
  },
  {
   "cell_type": "code",
   "execution_count": null,
   "metadata": {},
   "outputs": [],
   "source": [
    "final.columns"
   ]
  },
  {
   "cell_type": "code",
   "execution_count": null,
   "metadata": {},
   "outputs": [],
   "source": []
  }
 ],
 "metadata": {
  "kernelspec": {
   "display_name": "Python 3",
   "language": "python",
   "name": "python3"
  },
  "language_info": {
   "codemirror_mode": {
    "name": "ipython",
    "version": 3
   },
   "file_extension": ".py",
   "mimetype": "text/x-python",
   "name": "python",
   "nbconvert_exporter": "python",
   "pygments_lexer": "ipython3",
   "version": "3.12.0"
  }
 },
 "nbformat": 4,
 "nbformat_minor": 2
}
